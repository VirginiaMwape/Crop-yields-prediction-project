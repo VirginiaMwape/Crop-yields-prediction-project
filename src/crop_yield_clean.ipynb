{
 "cells": [
  {
   "cell_type": "code",
   "execution_count": 1,
   "id": "c5e8cb9f",
   "metadata": {},
   "outputs": [],
   "source": [
    "# Dependencies and Setup\n",
    "import pandas as pd\n",
    "from datetime import datetime \n",
    "import matplotlib.pyplot as plt\n",
    "import scipy.stats as st\n",
    "import numpy as np\n",
    "from scipy.stats import linregress"
   ]
  },
  {
   "cell_type": "code",
   "execution_count": 2,
   "id": "1bbd2eb5",
   "metadata": {},
   "outputs": [
    {
     "data": {
      "text/html": [
       "<div>\n",
       "<style scoped>\n",
       "    .dataframe tbody tr th:only-of-type {\n",
       "        vertical-align: middle;\n",
       "    }\n",
       "\n",
       "    .dataframe tbody tr th {\n",
       "        vertical-align: top;\n",
       "    }\n",
       "\n",
       "    .dataframe thead th {\n",
       "        text-align: right;\n",
       "    }\n",
       "</style>\n",
       "<table border=\"1\" class=\"dataframe\">\n",
       "  <thead>\n",
       "    <tr style=\"text-align: right;\">\n",
       "      <th></th>\n",
       "      <th>Domain Code</th>\n",
       "      <th>Domain</th>\n",
       "      <th>Area Code (FAO)</th>\n",
       "      <th>Area</th>\n",
       "      <th>Element Code</th>\n",
       "      <th>Element</th>\n",
       "      <th>Item Code (FAO)</th>\n",
       "      <th>Item</th>\n",
       "      <th>Year Code</th>\n",
       "      <th>Year</th>\n",
       "      <th>Unit</th>\n",
       "      <th>Value</th>\n",
       "      <th>Flag</th>\n",
       "      <th>Flag Description</th>\n",
       "    </tr>\n",
       "  </thead>\n",
       "  <tbody>\n",
       "    <tr>\n",
       "      <th>0</th>\n",
       "      <td>QCL</td>\n",
       "      <td>Crops and livestock products</td>\n",
       "      <td>10</td>\n",
       "      <td>Australia</td>\n",
       "      <td>5312</td>\n",
       "      <td>Area harvested</td>\n",
       "      <td>221</td>\n",
       "      <td>Almonds, with shell</td>\n",
       "      <td>1990</td>\n",
       "      <td>1990</td>\n",
       "      <td>ha</td>\n",
       "      <td>3000</td>\n",
       "      <td>F</td>\n",
       "      <td>FAO estimate</td>\n",
       "    </tr>\n",
       "    <tr>\n",
       "      <th>1</th>\n",
       "      <td>QCL</td>\n",
       "      <td>Crops and livestock products</td>\n",
       "      <td>10</td>\n",
       "      <td>Australia</td>\n",
       "      <td>5312</td>\n",
       "      <td>Area harvested</td>\n",
       "      <td>221</td>\n",
       "      <td>Almonds, with shell</td>\n",
       "      <td>1991</td>\n",
       "      <td>1991</td>\n",
       "      <td>ha</td>\n",
       "      <td>3100</td>\n",
       "      <td>F</td>\n",
       "      <td>FAO estimate</td>\n",
       "    </tr>\n",
       "    <tr>\n",
       "      <th>2</th>\n",
       "      <td>QCL</td>\n",
       "      <td>Crops and livestock products</td>\n",
       "      <td>10</td>\n",
       "      <td>Australia</td>\n",
       "      <td>5312</td>\n",
       "      <td>Area harvested</td>\n",
       "      <td>221</td>\n",
       "      <td>Almonds, with shell</td>\n",
       "      <td>1992</td>\n",
       "      <td>1992</td>\n",
       "      <td>ha</td>\n",
       "      <td>3900</td>\n",
       "      <td>F</td>\n",
       "      <td>FAO estimate</td>\n",
       "    </tr>\n",
       "    <tr>\n",
       "      <th>3</th>\n",
       "      <td>QCL</td>\n",
       "      <td>Crops and livestock products</td>\n",
       "      <td>10</td>\n",
       "      <td>Australia</td>\n",
       "      <td>5312</td>\n",
       "      <td>Area harvested</td>\n",
       "      <td>221</td>\n",
       "      <td>Almonds, with shell</td>\n",
       "      <td>1993</td>\n",
       "      <td>1993</td>\n",
       "      <td>ha</td>\n",
       "      <td>4600</td>\n",
       "      <td>F</td>\n",
       "      <td>FAO estimate</td>\n",
       "    </tr>\n",
       "    <tr>\n",
       "      <th>4</th>\n",
       "      <td>QCL</td>\n",
       "      <td>Crops and livestock products</td>\n",
       "      <td>10</td>\n",
       "      <td>Australia</td>\n",
       "      <td>5312</td>\n",
       "      <td>Area harvested</td>\n",
       "      <td>221</td>\n",
       "      <td>Almonds, with shell</td>\n",
       "      <td>1994</td>\n",
       "      <td>1994</td>\n",
       "      <td>ha</td>\n",
       "      <td>4670</td>\n",
       "      <td>F</td>\n",
       "      <td>FAO estimate</td>\n",
       "    </tr>\n",
       "  </tbody>\n",
       "</table>\n",
       "</div>"
      ],
      "text/plain": [
       "  Domain Code                        Domain  Area Code (FAO)       Area  \\\n",
       "0         QCL  Crops and livestock products               10  Australia   \n",
       "1         QCL  Crops and livestock products               10  Australia   \n",
       "2         QCL  Crops and livestock products               10  Australia   \n",
       "3         QCL  Crops and livestock products               10  Australia   \n",
       "4         QCL  Crops and livestock products               10  Australia   \n",
       "\n",
       "   Element Code         Element  Item Code (FAO)                 Item  \\\n",
       "0          5312  Area harvested              221  Almonds, with shell   \n",
       "1          5312  Area harvested              221  Almonds, with shell   \n",
       "2          5312  Area harvested              221  Almonds, with shell   \n",
       "3          5312  Area harvested              221  Almonds, with shell   \n",
       "4          5312  Area harvested              221  Almonds, with shell   \n",
       "\n",
       "   Year Code  Year Unit  Value Flag Flag Description  \n",
       "0       1990  1990   ha   3000    F     FAO estimate  \n",
       "1       1991  1991   ha   3100    F     FAO estimate  \n",
       "2       1992  1992   ha   3900    F     FAO estimate  \n",
       "3       1993  1993   ha   4600    F     FAO estimate  \n",
       "4       1994  1994   ha   4670    F     FAO estimate  "
      ]
     },
     "execution_count": 2,
     "metadata": {},
     "output_type": "execute_result"
    }
   ],
   "source": [
    "# Read matches_by_teams.csv File and store into Pandas data frame\n",
    "file_to_load = 'crop_yield.csv'\n",
    "crop_yield = pd.read_csv(file_to_load)\n",
    "crop_yield.head()"
   ]
  },
  {
   "cell_type": "code",
   "execution_count": 3,
   "id": "6559b35f",
   "metadata": {},
   "outputs": [
    {
     "name": "stdout",
     "output_type": "stream",
     "text": [
      "Domain Code\n",
      "Domain\n",
      "Area Code (FAO)\n",
      "Area\n",
      "Element Code\n",
      "Element\n",
      "Item Code (FAO)\n",
      "Item\n",
      "Year Code\n",
      "Year\n",
      "Unit\n",
      "Value\n",
      "Flag\n",
      "Flag Description\n"
     ]
    }
   ],
   "source": [
    "#check the columns in the dataset\n",
    "for col in crop_yield.columns:\n",
    "    print(col)"
   ]
  },
  {
   "cell_type": "code",
   "execution_count": 4,
   "id": "2d70671a",
   "metadata": {},
   "outputs": [
    {
     "data": {
      "text/plain": [
       "Domain Code           0\n",
       "Domain                0\n",
       "Area Code (FAO)       0\n",
       "Area                  0\n",
       "Element Code          0\n",
       "Element               0\n",
       "Item Code (FAO)       0\n",
       "Item                  0\n",
       "Year Code             0\n",
       "Year                  0\n",
       "Unit                  0\n",
       "Value                 0\n",
       "Flag                358\n",
       "Flag Description      0\n",
       "dtype: int64"
      ]
     },
     "execution_count": 4,
     "metadata": {},
     "output_type": "execute_result"
    }
   ],
   "source": [
    "#Check for NaN and blank data\n",
    "crop_yield.isnull().sum()"
   ]
  },
  {
   "cell_type": "code",
   "execution_count": 18,
   "id": "6eaf741b",
   "metadata": {},
   "outputs": [],
   "source": [
    "#drop unnecessary columns\n",
    "clean_yielddata = crop_yield.drop(columns=[\"Domain Code\", \"Domain Code\", \"Domain\", \"Area Code (FAO)\", \"Area\", \n",
    "                                       \"Element Code\", \"Item Code (FAO)\", \n",
    "                                       \"Year Code\", \"Flag\", \"Unit\",\"Flag Description\"])"
   ]
  },
  {
   "cell_type": "code",
   "execution_count": 19,
   "id": "99af8cfc",
   "metadata": {},
   "outputs": [
    {
     "data": {
      "text/html": [
       "<div>\n",
       "<style scoped>\n",
       "    .dataframe tbody tr th:only-of-type {\n",
       "        vertical-align: middle;\n",
       "    }\n",
       "\n",
       "    .dataframe tbody tr th {\n",
       "        vertical-align: top;\n",
       "    }\n",
       "\n",
       "    .dataframe thead th {\n",
       "        text-align: right;\n",
       "    }\n",
       "</style>\n",
       "<table border=\"1\" class=\"dataframe\">\n",
       "  <thead>\n",
       "    <tr style=\"text-align: right;\">\n",
       "      <th></th>\n",
       "      <th>Element</th>\n",
       "      <th>Item</th>\n",
       "      <th>Year</th>\n",
       "      <th>Value</th>\n",
       "    </tr>\n",
       "  </thead>\n",
       "  <tbody>\n",
       "    <tr>\n",
       "      <th>0</th>\n",
       "      <td>Area harvested</td>\n",
       "      <td>Almonds, with shell</td>\n",
       "      <td>1990</td>\n",
       "      <td>3000</td>\n",
       "    </tr>\n",
       "    <tr>\n",
       "      <th>1</th>\n",
       "      <td>Area harvested</td>\n",
       "      <td>Almonds, with shell</td>\n",
       "      <td>1991</td>\n",
       "      <td>3100</td>\n",
       "    </tr>\n",
       "    <tr>\n",
       "      <th>2</th>\n",
       "      <td>Area harvested</td>\n",
       "      <td>Almonds, with shell</td>\n",
       "      <td>1992</td>\n",
       "      <td>3900</td>\n",
       "    </tr>\n",
       "    <tr>\n",
       "      <th>3</th>\n",
       "      <td>Area harvested</td>\n",
       "      <td>Almonds, with shell</td>\n",
       "      <td>1993</td>\n",
       "      <td>4600</td>\n",
       "    </tr>\n",
       "    <tr>\n",
       "      <th>4</th>\n",
       "      <td>Area harvested</td>\n",
       "      <td>Almonds, with shell</td>\n",
       "      <td>1994</td>\n",
       "      <td>4670</td>\n",
       "    </tr>\n",
       "  </tbody>\n",
       "</table>\n",
       "</div>"
      ],
      "text/plain": [
       "          Element                 Item  Year  Value\n",
       "0  Area harvested  Almonds, with shell  1990   3000\n",
       "1  Area harvested  Almonds, with shell  1991   3100\n",
       "2  Area harvested  Almonds, with shell  1992   3900\n",
       "3  Area harvested  Almonds, with shell  1993   4600\n",
       "4  Area harvested  Almonds, with shell  1994   4670"
      ]
     },
     "execution_count": 19,
     "metadata": {},
     "output_type": "execute_result"
    }
   ],
   "source": [
    "clean_yielddata.head()"
   ]
  },
  {
   "cell_type": "code",
   "execution_count": 21,
   "id": "06b4ac48",
   "metadata": {},
   "outputs": [],
   "source": [
    "##choose the 'yield' element from the dataset, remove area harvested and production\n",
    "clean_yielddata.drop(clean_yielddata.index[clean_yielddata['Element'] == 'Area harvested'], inplace=True)\n",
    "clean_yielddata.drop(clean_yielddata.index[clean_yielddata['Element'] == 'Production'], inplace=True)"
   ]
  },
  {
   "cell_type": "code",
   "execution_count": 22,
   "id": "ecb08447",
   "metadata": {},
   "outputs": [
    {
     "data": {
      "text/html": [
       "<div>\n",
       "<style scoped>\n",
       "    .dataframe tbody tr th:only-of-type {\n",
       "        vertical-align: middle;\n",
       "    }\n",
       "\n",
       "    .dataframe tbody tr th {\n",
       "        vertical-align: top;\n",
       "    }\n",
       "\n",
       "    .dataframe thead th {\n",
       "        text-align: right;\n",
       "    }\n",
       "</style>\n",
       "<table border=\"1\" class=\"dataframe\">\n",
       "  <thead>\n",
       "    <tr style=\"text-align: right;\">\n",
       "      <th></th>\n",
       "      <th>Element</th>\n",
       "      <th>Item</th>\n",
       "      <th>Year</th>\n",
       "      <th>Value</th>\n",
       "    </tr>\n",
       "  </thead>\n",
       "  <tbody>\n",
       "    <tr>\n",
       "      <th>31</th>\n",
       "      <td>Yield</td>\n",
       "      <td>Almonds, with shell</td>\n",
       "      <td>1990</td>\n",
       "      <td>16667</td>\n",
       "    </tr>\n",
       "    <tr>\n",
       "      <th>32</th>\n",
       "      <td>Yield</td>\n",
       "      <td>Almonds, with shell</td>\n",
       "      <td>1991</td>\n",
       "      <td>29032</td>\n",
       "    </tr>\n",
       "    <tr>\n",
       "      <th>33</th>\n",
       "      <td>Yield</td>\n",
       "      <td>Almonds, with shell</td>\n",
       "      <td>1992</td>\n",
       "      <td>24359</td>\n",
       "    </tr>\n",
       "    <tr>\n",
       "      <th>34</th>\n",
       "      <td>Yield</td>\n",
       "      <td>Almonds, with shell</td>\n",
       "      <td>1993</td>\n",
       "      <td>21739</td>\n",
       "    </tr>\n",
       "    <tr>\n",
       "      <th>35</th>\n",
       "      <td>Yield</td>\n",
       "      <td>Almonds, with shell</td>\n",
       "      <td>1994</td>\n",
       "      <td>23555</td>\n",
       "    </tr>\n",
       "  </tbody>\n",
       "</table>\n",
       "</div>"
      ],
      "text/plain": [
       "   Element                 Item  Year  Value\n",
       "31   Yield  Almonds, with shell  1990  16667\n",
       "32   Yield  Almonds, with shell  1991  29032\n",
       "33   Yield  Almonds, with shell  1992  24359\n",
       "34   Yield  Almonds, with shell  1993  21739\n",
       "35   Yield  Almonds, with shell  1994  23555"
      ]
     },
     "execution_count": 22,
     "metadata": {},
     "output_type": "execute_result"
    }
   ],
   "source": [
    "clean_yielddata.head()"
   ]
  },
  {
   "cell_type": "code",
   "execution_count": 23,
   "id": "65c0d5e6",
   "metadata": {},
   "outputs": [],
   "source": [
    "#drop hte colum \"element\"\n",
    "clean_yielddata = clean_yielddata.drop(columns=[\"Element\"])"
   ]
  },
  {
   "cell_type": "code",
   "execution_count": 24,
   "id": "d0f96fd0",
   "metadata": {},
   "outputs": [
    {
     "name": "stdout",
     "output_type": "stream",
     "text": [
      "                    Item  Year  Value\n",
      "31   Almonds, with shell  1990  16667\n",
      "32   Almonds, with shell  1991  29032\n",
      "33   Almonds, with shell  1992  24359\n",
      "34   Almonds, with shell  1993  21739\n",
      "35   Almonds, with shell  1994  23555\n",
      "..                   ...   ...    ...\n",
      "615                Wheat  2016  19743\n",
      "616                Wheat  2017  26100\n",
      "617                Wheat  2018  19178\n",
      "618                Wheat  2019  16917\n",
      "619                Wheat  2020  14681\n",
      "\n",
      "[217 rows x 3 columns]\n"
     ]
    }
   ],
   "source": [
    "print(clean_yielddata)"
   ]
  },
  {
   "cell_type": "code",
   "execution_count": 25,
   "id": "51581cb0",
   "metadata": {},
   "outputs": [],
   "source": [
    "#rename item to 'crop'\n",
    "clean_yielddata.rename(columns={\"Item\": \"Crop\"}, inplace = True)"
   ]
  },
  {
   "cell_type": "code",
   "execution_count": 27,
   "id": "d51cf433",
   "metadata": {},
   "outputs": [
    {
     "name": "stdout",
     "output_type": "stream",
     "text": [
      "                    Crop  Year  Value\n",
      "31   Almonds, with shell  1990  16667\n",
      "32   Almonds, with shell  1991  29032\n",
      "33   Almonds, with shell  1992  24359\n",
      "34   Almonds, with shell  1993  21739\n",
      "35   Almonds, with shell  1994  23555\n",
      "..                   ...   ...    ...\n",
      "615                Wheat  2016  19743\n",
      "616                Wheat  2017  26100\n",
      "617                Wheat  2018  19178\n",
      "618                Wheat  2019  16917\n",
      "619                Wheat  2020  14681\n",
      "\n",
      "[217 rows x 3 columns]\n"
     ]
    }
   ],
   "source": [
    "print(clean_yielddata)"
   ]
  },
  {
   "cell_type": "code",
   "execution_count": 28,
   "id": "5e04e43e",
   "metadata": {},
   "outputs": [],
   "source": [
    "#rename value with yield unit\n",
    "clean_yielddata.rename(columns={\"Value\": \"Value(hg/ha)\"}, inplace = True)"
   ]
  },
  {
   "cell_type": "code",
   "execution_count": 29,
   "id": "b8a4e4b1",
   "metadata": {},
   "outputs": [
    {
     "name": "stdout",
     "output_type": "stream",
     "text": [
      "                    Crop  Year  Value(hg/ha)\n",
      "31   Almonds, with shell  1990         16667\n",
      "32   Almonds, with shell  1991         29032\n",
      "33   Almonds, with shell  1992         24359\n",
      "34   Almonds, with shell  1993         21739\n",
      "35   Almonds, with shell  1994         23555\n",
      "..                   ...   ...           ...\n",
      "615                Wheat  2016         19743\n",
      "616                Wheat  2017         26100\n",
      "617                Wheat  2018         19178\n",
      "618                Wheat  2019         16917\n",
      "619                Wheat  2020         14681\n",
      "\n",
      "[217 rows x 3 columns]\n"
     ]
    }
   ],
   "source": [
    "print(clean_yielddata)"
   ]
  },
  {
   "cell_type": "code",
   "execution_count": 30,
   "id": "e7d7d9e9",
   "metadata": {},
   "outputs": [],
   "source": [
    "#reset index\n",
    "clean_yielddata= clean_yielddata.reset_index(drop=True)\n"
   ]
  },
  {
   "cell_type": "code",
   "execution_count": 31,
   "id": "de6f7f20",
   "metadata": {},
   "outputs": [
    {
     "name": "stdout",
     "output_type": "stream",
     "text": [
      "                    Crop  Year  Value(hg/ha)\n",
      "0    Almonds, with shell  1990         16667\n",
      "1    Almonds, with shell  1991         29032\n",
      "2    Almonds, with shell  1992         24359\n",
      "3    Almonds, with shell  1993         21739\n",
      "4    Almonds, with shell  1994         23555\n",
      "..                   ...   ...           ...\n",
      "212                Wheat  2016         19743\n",
      "213                Wheat  2017         26100\n",
      "214                Wheat  2018         19178\n",
      "215                Wheat  2019         16917\n",
      "216                Wheat  2020         14681\n",
      "\n",
      "[217 rows x 3 columns]\n"
     ]
    }
   ],
   "source": [
    "print(clean_yielddata)"
   ]
  },
  {
   "cell_type": "code",
   "execution_count": 32,
   "id": "c08a02bd",
   "metadata": {},
   "outputs": [],
   "source": [
    "clean_yielddata.to_csv('crop_yield_clean.csv')"
   ]
  },
  {
   "cell_type": "code",
   "execution_count": null,
   "id": "71fecc93",
   "metadata": {},
   "outputs": [],
   "source": []
  },
  {
   "cell_type": "code",
   "execution_count": null,
   "id": "3294c48a",
   "metadata": {},
   "outputs": [],
   "source": []
  }
 ],
 "metadata": {
  "kernelspec": {
   "display_name": "Python 3 (ipykernel)",
   "language": "python",
   "name": "python3"
  },
  "language_info": {
   "codemirror_mode": {
    "name": "ipython",
    "version": 3
   },
   "file_extension": ".py",
   "mimetype": "text/x-python",
   "name": "python",
   "nbconvert_exporter": "python",
   "pygments_lexer": "ipython3",
   "version": "3.10.4"
  }
 },
 "nbformat": 4,
 "nbformat_minor": 5
}
