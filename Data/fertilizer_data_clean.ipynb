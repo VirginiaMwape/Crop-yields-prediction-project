{
 "cells": [
  {
   "cell_type": "code",
   "execution_count": 1,
   "id": "083ffd37",
   "metadata": {},
   "outputs": [],
   "source": [
    "# Dependencies and Setup\n",
    "import pandas as pd\n",
    "from datetime import datetime \n",
    "import matplotlib.pyplot as plt\n",
    "import scipy.stats as st\n",
    "import numpy as np\n",
    "from scipy.stats import linregress"
   ]
  },
  {
   "cell_type": "code",
   "execution_count": 2,
   "id": "bf319aa4",
   "metadata": {},
   "outputs": [
    {
     "data": {
      "text/html": [
       "<div>\n",
       "<style scoped>\n",
       "    .dataframe tbody tr th:only-of-type {\n",
       "        vertical-align: middle;\n",
       "    }\n",
       "\n",
       "    .dataframe tbody tr th {\n",
       "        vertical-align: top;\n",
       "    }\n",
       "\n",
       "    .dataframe thead th {\n",
       "        text-align: right;\n",
       "    }\n",
       "</style>\n",
       "<table border=\"1\" class=\"dataframe\">\n",
       "  <thead>\n",
       "    <tr style=\"text-align: right;\">\n",
       "      <th></th>\n",
       "      <th>Domain Code</th>\n",
       "      <th>Domain</th>\n",
       "      <th>Area Code (FAO)</th>\n",
       "      <th>Area</th>\n",
       "      <th>Element Code</th>\n",
       "      <th>Element</th>\n",
       "      <th>Item Code</th>\n",
       "      <th>Item</th>\n",
       "      <th>Year Code</th>\n",
       "      <th>Year</th>\n",
       "      <th>Unit</th>\n",
       "      <th>Value</th>\n",
       "      <th>Flag</th>\n",
       "      <th>Flag Description</th>\n",
       "    </tr>\n",
       "  </thead>\n",
       "  <tbody>\n",
       "    <tr>\n",
       "      <th>0</th>\n",
       "      <td>RFN</td>\n",
       "      <td>Fertilizers by Nutrient</td>\n",
       "      <td>10</td>\n",
       "      <td>Australia</td>\n",
       "      <td>5510</td>\n",
       "      <td>Production</td>\n",
       "      <td>3102</td>\n",
       "      <td>Nutrient nitrogen N (total)</td>\n",
       "      <td>1990</td>\n",
       "      <td>1990</td>\n",
       "      <td>tonnes</td>\n",
       "      <td>224500.0</td>\n",
       "      <td>X</td>\n",
       "      <td>International reliable sources</td>\n",
       "    </tr>\n",
       "    <tr>\n",
       "      <th>1</th>\n",
       "      <td>RFN</td>\n",
       "      <td>Fertilizers by Nutrient</td>\n",
       "      <td>10</td>\n",
       "      <td>Australia</td>\n",
       "      <td>5510</td>\n",
       "      <td>Production</td>\n",
       "      <td>3102</td>\n",
       "      <td>Nutrient nitrogen N (total)</td>\n",
       "      <td>1991</td>\n",
       "      <td>1991</td>\n",
       "      <td>tonnes</td>\n",
       "      <td>229500.0</td>\n",
       "      <td>X</td>\n",
       "      <td>International reliable sources</td>\n",
       "    </tr>\n",
       "    <tr>\n",
       "      <th>2</th>\n",
       "      <td>RFN</td>\n",
       "      <td>Fertilizers by Nutrient</td>\n",
       "      <td>10</td>\n",
       "      <td>Australia</td>\n",
       "      <td>5510</td>\n",
       "      <td>Production</td>\n",
       "      <td>3102</td>\n",
       "      <td>Nutrient nitrogen N (total)</td>\n",
       "      <td>1992</td>\n",
       "      <td>1992</td>\n",
       "      <td>tonnes</td>\n",
       "      <td>224100.0</td>\n",
       "      <td>X</td>\n",
       "      <td>International reliable sources</td>\n",
       "    </tr>\n",
       "    <tr>\n",
       "      <th>3</th>\n",
       "      <td>RFN</td>\n",
       "      <td>Fertilizers by Nutrient</td>\n",
       "      <td>10</td>\n",
       "      <td>Australia</td>\n",
       "      <td>5510</td>\n",
       "      <td>Production</td>\n",
       "      <td>3102</td>\n",
       "      <td>Nutrient nitrogen N (total)</td>\n",
       "      <td>1993</td>\n",
       "      <td>1993</td>\n",
       "      <td>tonnes</td>\n",
       "      <td>232300.0</td>\n",
       "      <td>X</td>\n",
       "      <td>International reliable sources</td>\n",
       "    </tr>\n",
       "    <tr>\n",
       "      <th>4</th>\n",
       "      <td>RFN</td>\n",
       "      <td>Fertilizers by Nutrient</td>\n",
       "      <td>10</td>\n",
       "      <td>Australia</td>\n",
       "      <td>5510</td>\n",
       "      <td>Production</td>\n",
       "      <td>3102</td>\n",
       "      <td>Nutrient nitrogen N (total)</td>\n",
       "      <td>1994</td>\n",
       "      <td>1994</td>\n",
       "      <td>tonnes</td>\n",
       "      <td>228900.0</td>\n",
       "      <td>X</td>\n",
       "      <td>International reliable sources</td>\n",
       "    </tr>\n",
       "  </tbody>\n",
       "</table>\n",
       "</div>"
      ],
      "text/plain": [
       "  Domain Code                   Domain  Area Code (FAO)       Area  \\\n",
       "0         RFN  Fertilizers by Nutrient               10  Australia   \n",
       "1         RFN  Fertilizers by Nutrient               10  Australia   \n",
       "2         RFN  Fertilizers by Nutrient               10  Australia   \n",
       "3         RFN  Fertilizers by Nutrient               10  Australia   \n",
       "4         RFN  Fertilizers by Nutrient               10  Australia   \n",
       "\n",
       "   Element Code     Element  Item Code                         Item  \\\n",
       "0          5510  Production       3102  Nutrient nitrogen N (total)   \n",
       "1          5510  Production       3102  Nutrient nitrogen N (total)   \n",
       "2          5510  Production       3102  Nutrient nitrogen N (total)   \n",
       "3          5510  Production       3102  Nutrient nitrogen N (total)   \n",
       "4          5510  Production       3102  Nutrient nitrogen N (total)   \n",
       "\n",
       "   Year Code  Year    Unit     Value Flag                Flag Description  \n",
       "0       1990  1990  tonnes  224500.0    X  International reliable sources  \n",
       "1       1991  1991  tonnes  229500.0    X  International reliable sources  \n",
       "2       1992  1992  tonnes  224100.0    X  International reliable sources  \n",
       "3       1993  1993  tonnes  232300.0    X  International reliable sources  \n",
       "4       1994  1994  tonnes  228900.0    X  International reliable sources  "
      ]
     },
     "execution_count": 2,
     "metadata": {},
     "output_type": "execute_result"
    }
   ],
   "source": [
    "# Read matches_by_teams.csv File and store into Pandas data frame\n",
    "file_to_load = 'fertilizer_data.csv'\n",
    "fertilizer_data = pd.read_csv(file_to_load)\n",
    "fertilizer_data.head()"
   ]
  },
  {
   "cell_type": "code",
   "execution_count": 3,
   "id": "a36ffde8",
   "metadata": {},
   "outputs": [
    {
     "name": "stdout",
     "output_type": "stream",
     "text": [
      "Domain Code\n",
      "Domain\n",
      "Area Code (FAO)\n",
      "Area\n",
      "Element Code\n",
      "Element\n",
      "Item Code\n",
      "Item\n",
      "Year Code\n",
      "Year\n",
      "Unit\n",
      "Value\n",
      "Flag\n",
      "Flag Description\n"
     ]
    }
   ],
   "source": [
    "for col in fertilizer_data.columns:\n",
    "    print(col)"
   ]
  },
  {
   "cell_type": "code",
   "execution_count": 4,
   "id": "4eb068d4",
   "metadata": {},
   "outputs": [
    {
     "data": {
      "text/plain": [
       "Domain Code         0\n",
       "Domain              0\n",
       "Area Code (FAO)     0\n",
       "Area                0\n",
       "Element Code        0\n",
       "Element             0\n",
       "Item Code           0\n",
       "Item                0\n",
       "Year Code           0\n",
       "Year                0\n",
       "Unit                0\n",
       "Value               0\n",
       "Flag                0\n",
       "Flag Description    0\n",
       "dtype: int64"
      ]
     },
     "execution_count": 4,
     "metadata": {},
     "output_type": "execute_result"
    }
   ],
   "source": [
    "#Check for NaN and blank data\n",
    "fertilizer_data.isnull().sum()"
   ]
  },
  {
   "cell_type": "code",
   "execution_count": 11,
   "id": "32ad487f",
   "metadata": {},
   "outputs": [],
   "source": [
    "clean_fertdata = fertilizer_data.drop(columns=[\"Domain Code\", \"Domain Code\", \"Domain\", \"Area Code (FAO)\", \"Area\", \n",
    "                                       \"Element Code\", \"Element\", \"Item Code\", \n",
    "                                  \"Year Code\", \"Flag\",\"Unit\", \"Flag Description\"])"
   ]
  },
  {
   "cell_type": "code",
   "execution_count": 13,
   "id": "8e0ba4b2",
   "metadata": {},
   "outputs": [
    {
     "data": {
      "text/html": [
       "<div>\n",
       "<style scoped>\n",
       "    .dataframe tbody tr th:only-of-type {\n",
       "        vertical-align: middle;\n",
       "    }\n",
       "\n",
       "    .dataframe tbody tr th {\n",
       "        vertical-align: top;\n",
       "    }\n",
       "\n",
       "    .dataframe thead th {\n",
       "        text-align: right;\n",
       "    }\n",
       "</style>\n",
       "<table border=\"1\" class=\"dataframe\">\n",
       "  <thead>\n",
       "    <tr style=\"text-align: right;\">\n",
       "      <th></th>\n",
       "      <th>Item</th>\n",
       "      <th>Year</th>\n",
       "      <th>Value</th>\n",
       "    </tr>\n",
       "  </thead>\n",
       "  <tbody>\n",
       "    <tr>\n",
       "      <th>0</th>\n",
       "      <td>Nutrient nitrogen N (total)</td>\n",
       "      <td>1990</td>\n",
       "      <td>224500.0</td>\n",
       "    </tr>\n",
       "    <tr>\n",
       "      <th>1</th>\n",
       "      <td>Nutrient nitrogen N (total)</td>\n",
       "      <td>1991</td>\n",
       "      <td>229500.0</td>\n",
       "    </tr>\n",
       "    <tr>\n",
       "      <th>2</th>\n",
       "      <td>Nutrient nitrogen N (total)</td>\n",
       "      <td>1992</td>\n",
       "      <td>224100.0</td>\n",
       "    </tr>\n",
       "    <tr>\n",
       "      <th>3</th>\n",
       "      <td>Nutrient nitrogen N (total)</td>\n",
       "      <td>1993</td>\n",
       "      <td>232300.0</td>\n",
       "    </tr>\n",
       "    <tr>\n",
       "      <th>4</th>\n",
       "      <td>Nutrient nitrogen N (total)</td>\n",
       "      <td>1994</td>\n",
       "      <td>228900.0</td>\n",
       "    </tr>\n",
       "  </tbody>\n",
       "</table>\n",
       "</div>"
      ],
      "text/plain": [
       "                          Item  Year     Value\n",
       "0  Nutrient nitrogen N (total)  1990  224500.0\n",
       "1  Nutrient nitrogen N (total)  1991  229500.0\n",
       "2  Nutrient nitrogen N (total)  1992  224100.0\n",
       "3  Nutrient nitrogen N (total)  1993  232300.0\n",
       "4  Nutrient nitrogen N (total)  1994  228900.0"
      ]
     },
     "execution_count": 13,
     "metadata": {},
     "output_type": "execute_result"
    }
   ],
   "source": [
    "clean_fertdata.head()"
   ]
  },
  {
   "cell_type": "code",
   "execution_count": 15,
   "id": "1f76a2fb",
   "metadata": {},
   "outputs": [],
   "source": [
    "clean_fertdata.rename(columns={\"Value\": \"Value(tonnes)\"}, inplace = True)"
   ]
  },
  {
   "cell_type": "code",
   "execution_count": 16,
   "id": "ae7c356d",
   "metadata": {},
   "outputs": [
    {
     "data": {
      "text/html": [
       "<div>\n",
       "<style scoped>\n",
       "    .dataframe tbody tr th:only-of-type {\n",
       "        vertical-align: middle;\n",
       "    }\n",
       "\n",
       "    .dataframe tbody tr th {\n",
       "        vertical-align: top;\n",
       "    }\n",
       "\n",
       "    .dataframe thead th {\n",
       "        text-align: right;\n",
       "    }\n",
       "</style>\n",
       "<table border=\"1\" class=\"dataframe\">\n",
       "  <thead>\n",
       "    <tr style=\"text-align: right;\">\n",
       "      <th></th>\n",
       "      <th>Item</th>\n",
       "      <th>Year</th>\n",
       "      <th>Value(tonnes)</th>\n",
       "    </tr>\n",
       "  </thead>\n",
       "  <tbody>\n",
       "    <tr>\n",
       "      <th>0</th>\n",
       "      <td>Nutrient nitrogen N (total)</td>\n",
       "      <td>1990</td>\n",
       "      <td>224500.0</td>\n",
       "    </tr>\n",
       "    <tr>\n",
       "      <th>1</th>\n",
       "      <td>Nutrient nitrogen N (total)</td>\n",
       "      <td>1991</td>\n",
       "      <td>229500.0</td>\n",
       "    </tr>\n",
       "    <tr>\n",
       "      <th>2</th>\n",
       "      <td>Nutrient nitrogen N (total)</td>\n",
       "      <td>1992</td>\n",
       "      <td>224100.0</td>\n",
       "    </tr>\n",
       "    <tr>\n",
       "      <th>3</th>\n",
       "      <td>Nutrient nitrogen N (total)</td>\n",
       "      <td>1993</td>\n",
       "      <td>232300.0</td>\n",
       "    </tr>\n",
       "    <tr>\n",
       "      <th>4</th>\n",
       "      <td>Nutrient nitrogen N (total)</td>\n",
       "      <td>1994</td>\n",
       "      <td>228900.0</td>\n",
       "    </tr>\n",
       "  </tbody>\n",
       "</table>\n",
       "</div>"
      ],
      "text/plain": [
       "                          Item  Year  Value(tonnes)\n",
       "0  Nutrient nitrogen N (total)  1990       224500.0\n",
       "1  Nutrient nitrogen N (total)  1991       229500.0\n",
       "2  Nutrient nitrogen N (total)  1992       224100.0\n",
       "3  Nutrient nitrogen N (total)  1993       232300.0\n",
       "4  Nutrient nitrogen N (total)  1994       228900.0"
      ]
     },
     "execution_count": 16,
     "metadata": {},
     "output_type": "execute_result"
    }
   ],
   "source": [
    "clean_fertdata.head()"
   ]
  },
  {
   "cell_type": "code",
   "execution_count": 17,
   "id": "fdcbb036",
   "metadata": {},
   "outputs": [
    {
     "name": "stdout",
     "output_type": "stream",
     "text": [
      "                            Item  Year  Value(tonnes)\n",
      "0    Nutrient nitrogen N (total)  1990      224500.00\n",
      "1    Nutrient nitrogen N (total)  1991      229500.00\n",
      "2    Nutrient nitrogen N (total)  1992      224100.00\n",
      "3    Nutrient nitrogen N (total)  1993      232300.00\n",
      "4    Nutrient nitrogen N (total)  1994      228900.00\n",
      "..                           ...   ...            ...\n",
      "337  Nutrient potash K2O (total)  2015      239894.89\n",
      "338  Nutrient potash K2O (total)  2016      255367.97\n",
      "339  Nutrient potash K2O (total)  2017      273126.19\n",
      "340  Nutrient potash K2O (total)  2018      293693.53\n",
      "341  Nutrient potash K2O (total)  2019      288016.25\n",
      "\n",
      "[342 rows x 3 columns]\n"
     ]
    }
   ],
   "source": [
    "print(clean_fertdata)"
   ]
  },
  {
   "cell_type": "code",
   "execution_count": 20,
   "id": "ecf00274",
   "metadata": {},
   "outputs": [],
   "source": [
    "clean_fertdata.to_csv('fertilizer_data_clean.csv')"
   ]
  },
  {
   "cell_type": "code",
   "execution_count": null,
   "id": "245e4b65",
   "metadata": {},
   "outputs": [],
   "source": []
  }
 ],
 "metadata": {
  "kernelspec": {
   "display_name": "Python 3 (ipykernel)",
   "language": "python",
   "name": "python3"
  },
  "language_info": {
   "codemirror_mode": {
    "name": "ipython",
    "version": 3
   },
   "file_extension": ".py",
   "mimetype": "text/x-python",
   "name": "python",
   "nbconvert_exporter": "python",
   "pygments_lexer": "ipython3",
   "version": "3.10.4"
  }
 },
 "nbformat": 4,
 "nbformat_minor": 5
}
