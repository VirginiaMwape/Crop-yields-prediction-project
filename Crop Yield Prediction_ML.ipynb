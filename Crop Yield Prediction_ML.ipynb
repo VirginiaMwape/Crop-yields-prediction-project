{
 "cells": [
  {
   "cell_type": "markdown",
   "metadata": {},
   "source": [
    "# Crops Yield Prediction \n",
    " \n",
    "We studied crop yield for Australia from 1990 to 2019. Crop yield prediction is an important food security problem, and primarily depends on several factors such as weather conditions (rain, temperature, etc), fertiliser, pesticides. Historical knowledge about crop yield is important for making decisions and future predictions.\n",
    "\n",
    "In this exercise we adopted machine learning methods to predict 7 popular crops in Australia using available data from FAO and World Data Bank.\n",
    "\n",
    "We used regression analysis to investigate the relationship between a dependent/target (crops) and independent variables/predictor (fertilizer types and rainfall) to select the right model. The regression model we used for this exercise include:\n",
    "- Random Forest\n",
    "- Decision Tree\n",
    "- SVM\n",
    "\n",
    "Knowling the right model for the data, we further analysed by using the classification method to test the accuracy of best fit model\n",
    "\n",
    "Crops include :           \n",
    "- Almond\n",
    "- Apple\n",
    "- Barley                \n",
    "- Maize            \n",
    "- Oats                   \n",
    "- Sorghum               \n",
    "- Wheat            \n",
    "\n",
    "The data used in this project were sourced from FAO and World Data Bank. \n",
    "\n",
    "References\n",
    "\n",
    "http://www.fao.org/home/en/\n",
    "\n",
    "https://data.worldbank.org/\n",
    "\n",
    "https://www.kaggle.com/datasets/patelris/crop-yield-prediction-dataset\n",
    "\n",
    "https://www.agric.wa.gov.au/climate-weather/potential-yield-tool/"
   ]
  },
  {
   "cell_type": "markdown",
   "metadata": {},
   "source": [
    "# Visualising processed data"
   ]
  },
  {
   "cell_type": "code",
   "execution_count": 1,
   "metadata": {},
   "outputs": [],
   "source": [
    "# Import libraries for datasets\n",
    "import numpy as np \n",
    "import pandas as pd "
   ]
  },
  {
   "cell_type": "code",
   "execution_count": 2,
   "metadata": {},
   "outputs": [
    {
     "data": {
      "text/plain": [
       "(210, 7)"
      ]
     },
     "execution_count": 2,
     "metadata": {},
     "output_type": "execute_result"
    }
   ],
   "source": [
    "dataset = pd.read_csv('merged_data_edit.csv')\n",
    "dataset.shape"
   ]
  },
  {
   "cell_type": "code",
   "execution_count": 3,
   "metadata": {
    "scrolled": true
   },
   "outputs": [
    {
     "data": {
      "text/html": [
       "<div>\n",
       "<style scoped>\n",
       "    .dataframe tbody tr th:only-of-type {\n",
       "        vertical-align: middle;\n",
       "    }\n",
       "\n",
       "    .dataframe tbody tr th {\n",
       "        vertical-align: top;\n",
       "    }\n",
       "\n",
       "    .dataframe thead th {\n",
       "        text-align: right;\n",
       "    }\n",
       "</style>\n",
       "<table border=\"1\" class=\"dataframe\">\n",
       "  <thead>\n",
       "    <tr style=\"text-align: right;\">\n",
       "      <th></th>\n",
       "      <th>Year</th>\n",
       "      <th>mean rainfall</th>\n",
       "      <th>Crop</th>\n",
       "      <th>Value(hg/ha)</th>\n",
       "      <th>Nitrogen</th>\n",
       "      <th>Phosphate</th>\n",
       "      <th>Potassium</th>\n",
       "    </tr>\n",
       "  </thead>\n",
       "  <tbody>\n",
       "    <tr>\n",
       "      <th>0</th>\n",
       "      <td>1990</td>\n",
       "      <td>33.43</td>\n",
       "      <td>Almonds, with shell</td>\n",
       "      <td>16667</td>\n",
       "      <td>439400</td>\n",
       "      <td>583783.6</td>\n",
       "      <td>145373.54</td>\n",
       "    </tr>\n",
       "    <tr>\n",
       "      <th>1</th>\n",
       "      <td>1990</td>\n",
       "      <td>33.43</td>\n",
       "      <td>Apples</td>\n",
       "      <td>151376</td>\n",
       "      <td>439400</td>\n",
       "      <td>583783.6</td>\n",
       "      <td>145373.54</td>\n",
       "    </tr>\n",
       "    <tr>\n",
       "      <th>2</th>\n",
       "      <td>1990</td>\n",
       "      <td>33.43</td>\n",
       "      <td>Barley</td>\n",
       "      <td>16766</td>\n",
       "      <td>439400</td>\n",
       "      <td>583783.6</td>\n",
       "      <td>145373.54</td>\n",
       "    </tr>\n",
       "    <tr>\n",
       "      <th>3</th>\n",
       "      <td>1990</td>\n",
       "      <td>33.43</td>\n",
       "      <td>Maize</td>\n",
       "      <td>41821</td>\n",
       "      <td>439400</td>\n",
       "      <td>583783.6</td>\n",
       "      <td>145373.54</td>\n",
       "    </tr>\n",
       "    <tr>\n",
       "      <th>4</th>\n",
       "      <td>1990</td>\n",
       "      <td>33.43</td>\n",
       "      <td>Oats</td>\n",
       "      <td>14659</td>\n",
       "      <td>439400</td>\n",
       "      <td>583783.6</td>\n",
       "      <td>145373.54</td>\n",
       "    </tr>\n",
       "  </tbody>\n",
       "</table>\n",
       "</div>"
      ],
      "text/plain": [
       "   Year  mean rainfall                 Crop  Value(hg/ha)  Nitrogen  \\\n",
       "0  1990          33.43  Almonds, with shell         16667    439400   \n",
       "1  1990          33.43               Apples        151376    439400   \n",
       "2  1990          33.43               Barley         16766    439400   \n",
       "3  1990          33.43                Maize         41821    439400   \n",
       "4  1990          33.43                 Oats         14659    439400   \n",
       "\n",
       "   Phosphate  Potassium  \n",
       "0   583783.6  145373.54  \n",
       "1   583783.6  145373.54  \n",
       "2   583783.6  145373.54  \n",
       "3   583783.6  145373.54  \n",
       "4   583783.6  145373.54  "
      ]
     },
     "execution_count": 3,
     "metadata": {},
     "output_type": "execute_result"
    }
   ],
   "source": [
    "dataset.head()"
   ]
  },
  {
   "cell_type": "code",
   "execution_count": 4,
   "metadata": {
    "scrolled": true
   },
   "outputs": [
    {
     "data": {
      "text/html": [
       "<div>\n",
       "<style scoped>\n",
       "    .dataframe tbody tr th:only-of-type {\n",
       "        vertical-align: middle;\n",
       "    }\n",
       "\n",
       "    .dataframe tbody tr th {\n",
       "        vertical-align: top;\n",
       "    }\n",
       "\n",
       "    .dataframe thead th {\n",
       "        text-align: right;\n",
       "    }\n",
       "</style>\n",
       "<table border=\"1\" class=\"dataframe\">\n",
       "  <thead>\n",
       "    <tr style=\"text-align: right;\">\n",
       "      <th></th>\n",
       "      <th>Year</th>\n",
       "      <th>mean rainfall</th>\n",
       "      <th>Crop</th>\n",
       "      <th>Value(hg/ha)</th>\n",
       "      <th>Nitrogen</th>\n",
       "      <th>Phosphate</th>\n",
       "      <th>Potassium</th>\n",
       "    </tr>\n",
       "  </thead>\n",
       "  <tbody>\n",
       "    <tr>\n",
       "      <th>205</th>\n",
       "      <td>2019</td>\n",
       "      <td>22.51</td>\n",
       "      <td>Barley</td>\n",
       "      <td>19878</td>\n",
       "      <td>1337593</td>\n",
       "      <td>957503.11</td>\n",
       "      <td>288016.25</td>\n",
       "    </tr>\n",
       "    <tr>\n",
       "      <th>206</th>\n",
       "      <td>2019</td>\n",
       "      <td>22.51</td>\n",
       "      <td>Maize</td>\n",
       "      <td>55507</td>\n",
       "      <td>1337593</td>\n",
       "      <td>957503.11</td>\n",
       "      <td>288016.25</td>\n",
       "    </tr>\n",
       "    <tr>\n",
       "      <th>207</th>\n",
       "      <td>2019</td>\n",
       "      <td>22.51</td>\n",
       "      <td>Oats</td>\n",
       "      <td>12094</td>\n",
       "      <td>1337593</td>\n",
       "      <td>957503.11</td>\n",
       "      <td>288016.25</td>\n",
       "    </tr>\n",
       "    <tr>\n",
       "      <th>208</th>\n",
       "      <td>2019</td>\n",
       "      <td>22.51</td>\n",
       "      <td>Sorghum</td>\n",
       "      <td>21089</td>\n",
       "      <td>1337593</td>\n",
       "      <td>957503.11</td>\n",
       "      <td>288016.25</td>\n",
       "    </tr>\n",
       "    <tr>\n",
       "      <th>209</th>\n",
       "      <td>2019</td>\n",
       "      <td>22.51</td>\n",
       "      <td>Wheat</td>\n",
       "      <td>16917</td>\n",
       "      <td>1337593</td>\n",
       "      <td>957503.11</td>\n",
       "      <td>288016.25</td>\n",
       "    </tr>\n",
       "  </tbody>\n",
       "</table>\n",
       "</div>"
      ],
      "text/plain": [
       "     Year  mean rainfall     Crop  Value(hg/ha)  Nitrogen  Phosphate  \\\n",
       "205  2019          22.51   Barley         19878   1337593  957503.11   \n",
       "206  2019          22.51    Maize         55507   1337593  957503.11   \n",
       "207  2019          22.51     Oats         12094   1337593  957503.11   \n",
       "208  2019          22.51  Sorghum         21089   1337593  957503.11   \n",
       "209  2019          22.51    Wheat         16917   1337593  957503.11   \n",
       "\n",
       "     Potassium  \n",
       "205  288016.25  \n",
       "206  288016.25  \n",
       "207  288016.25  \n",
       "208  288016.25  \n",
       "209  288016.25  "
      ]
     },
     "execution_count": 4,
     "metadata": {},
     "output_type": "execute_result"
    }
   ],
   "source": [
    "dataset.tail()"
   ]
  },
  {
   "cell_type": "markdown",
   "metadata": {},
   "source": [
    "Looking at the columns in the csv, we can rename **Value** to **hg/ha_yield** to make it easier to recognise that this is our crops yields production value. In addition to removal of unnecessary coloumns like Area Code, Domain, Item Code, etc."
   ]
  },
  {
   "cell_type": "code",
   "execution_count": 5,
   "metadata": {
    "scrolled": true
   },
   "outputs": [
    {
     "data": {
      "text/html": [
       "<div>\n",
       "<style scoped>\n",
       "    .dataframe tbody tr th:only-of-type {\n",
       "        vertical-align: middle;\n",
       "    }\n",
       "\n",
       "    .dataframe tbody tr th {\n",
       "        vertical-align: top;\n",
       "    }\n",
       "\n",
       "    .dataframe thead th {\n",
       "        text-align: right;\n",
       "    }\n",
       "</style>\n",
       "<table border=\"1\" class=\"dataframe\">\n",
       "  <thead>\n",
       "    <tr style=\"text-align: right;\">\n",
       "      <th></th>\n",
       "      <th>Year</th>\n",
       "      <th>mean rainfall</th>\n",
       "      <th>Crop</th>\n",
       "      <th>Yield_hg/ha</th>\n",
       "      <th>Nitrogen</th>\n",
       "      <th>Phosphate</th>\n",
       "      <th>Potassium</th>\n",
       "    </tr>\n",
       "  </thead>\n",
       "  <tbody>\n",
       "    <tr>\n",
       "      <th>0</th>\n",
       "      <td>1990</td>\n",
       "      <td>33.43</td>\n",
       "      <td>Almonds, with shell</td>\n",
       "      <td>16667</td>\n",
       "      <td>439400</td>\n",
       "      <td>583783.6</td>\n",
       "      <td>145373.54</td>\n",
       "    </tr>\n",
       "    <tr>\n",
       "      <th>1</th>\n",
       "      <td>1990</td>\n",
       "      <td>33.43</td>\n",
       "      <td>Apples</td>\n",
       "      <td>151376</td>\n",
       "      <td>439400</td>\n",
       "      <td>583783.6</td>\n",
       "      <td>145373.54</td>\n",
       "    </tr>\n",
       "    <tr>\n",
       "      <th>2</th>\n",
       "      <td>1990</td>\n",
       "      <td>33.43</td>\n",
       "      <td>Barley</td>\n",
       "      <td>16766</td>\n",
       "      <td>439400</td>\n",
       "      <td>583783.6</td>\n",
       "      <td>145373.54</td>\n",
       "    </tr>\n",
       "    <tr>\n",
       "      <th>3</th>\n",
       "      <td>1990</td>\n",
       "      <td>33.43</td>\n",
       "      <td>Maize</td>\n",
       "      <td>41821</td>\n",
       "      <td>439400</td>\n",
       "      <td>583783.6</td>\n",
       "      <td>145373.54</td>\n",
       "    </tr>\n",
       "    <tr>\n",
       "      <th>4</th>\n",
       "      <td>1990</td>\n",
       "      <td>33.43</td>\n",
       "      <td>Oats</td>\n",
       "      <td>14659</td>\n",
       "      <td>439400</td>\n",
       "      <td>583783.6</td>\n",
       "      <td>145373.54</td>\n",
       "    </tr>\n",
       "  </tbody>\n",
       "</table>\n",
       "</div>"
      ],
      "text/plain": [
       "   Year  mean rainfall                 Crop  Yield_hg/ha  Nitrogen  Phosphate  \\\n",
       "0  1990          33.43  Almonds, with shell        16667    439400   583783.6   \n",
       "1  1990          33.43               Apples       151376    439400   583783.6   \n",
       "2  1990          33.43               Barley        16766    439400   583783.6   \n",
       "3  1990          33.43                Maize        41821    439400   583783.6   \n",
       "4  1990          33.43                 Oats        14659    439400   583783.6   \n",
       "\n",
       "   Potassium  \n",
       "0  145373.54  \n",
       "1  145373.54  \n",
       "2  145373.54  \n",
       "3  145373.54  \n",
       "4  145373.54  "
      ]
     },
     "execution_count": 5,
     "metadata": {},
     "output_type": "execute_result"
    }
   ],
   "source": [
    "# rename columns.\n",
    "dataset = dataset.rename(index=str, columns={\"Value(hg/ha)\": \"Yield_hg/ha\"})\n",
    "dataset.head()"
   ]
  },
  {
   "cell_type": "code",
   "execution_count": 6,
   "metadata": {},
   "outputs": [
    {
     "data": {
      "text/html": [
       "<div>\n",
       "<style scoped>\n",
       "    .dataframe tbody tr th:only-of-type {\n",
       "        vertical-align: middle;\n",
       "    }\n",
       "\n",
       "    .dataframe tbody tr th {\n",
       "        vertical-align: top;\n",
       "    }\n",
       "\n",
       "    .dataframe thead th {\n",
       "        text-align: right;\n",
       "    }\n",
       "</style>\n",
       "<table border=\"1\" class=\"dataframe\">\n",
       "  <thead>\n",
       "    <tr style=\"text-align: right;\">\n",
       "      <th></th>\n",
       "      <th>Year</th>\n",
       "      <th>mean rainfall</th>\n",
       "      <th>Yield_hg/ha</th>\n",
       "      <th>Nitrogen</th>\n",
       "      <th>Phosphate</th>\n",
       "      <th>Potassium</th>\n",
       "    </tr>\n",
       "    <tr>\n",
       "      <th>Crop</th>\n",
       "      <th></th>\n",
       "      <th></th>\n",
       "      <th></th>\n",
       "      <th></th>\n",
       "      <th></th>\n",
       "      <th></th>\n",
       "    </tr>\n",
       "  </thead>\n",
       "  <tbody>\n",
       "    <tr>\n",
       "      <th>Almonds, with shell</th>\n",
       "      <td>2004.5</td>\n",
       "      <td>38.972333</td>\n",
       "      <td>45741.900000</td>\n",
       "      <td>969202.066667</td>\n",
       "      <td>935854.811667</td>\n",
       "      <td>216398.761667</td>\n",
       "    </tr>\n",
       "    <tr>\n",
       "      <th>Apples</th>\n",
       "      <td>2004.5</td>\n",
       "      <td>38.972333</td>\n",
       "      <td>158059.233333</td>\n",
       "      <td>969202.066667</td>\n",
       "      <td>935854.811667</td>\n",
       "      <td>216398.761667</td>\n",
       "    </tr>\n",
       "    <tr>\n",
       "      <th>Barley</th>\n",
       "      <td>2004.5</td>\n",
       "      <td>38.972333</td>\n",
       "      <td>19061.266667</td>\n",
       "      <td>969202.066667</td>\n",
       "      <td>935854.811667</td>\n",
       "      <td>216398.761667</td>\n",
       "    </tr>\n",
       "    <tr>\n",
       "      <th>Maize</th>\n",
       "      <td>2004.5</td>\n",
       "      <td>38.972333</td>\n",
       "      <td>56736.700000</td>\n",
       "      <td>969202.066667</td>\n",
       "      <td>935854.811667</td>\n",
       "      <td>216398.761667</td>\n",
       "    </tr>\n",
       "    <tr>\n",
       "      <th>Oats</th>\n",
       "      <td>2004.5</td>\n",
       "      <td>38.972333</td>\n",
       "      <td>15430.933333</td>\n",
       "      <td>969202.066667</td>\n",
       "      <td>935854.811667</td>\n",
       "      <td>216398.761667</td>\n",
       "    </tr>\n",
       "    <tr>\n",
       "      <th>Sorghum</th>\n",
       "      <td>2004.5</td>\n",
       "      <td>38.972333</td>\n",
       "      <td>26613.000000</td>\n",
       "      <td>969202.066667</td>\n",
       "      <td>935854.811667</td>\n",
       "      <td>216398.761667</td>\n",
       "    </tr>\n",
       "    <tr>\n",
       "      <th>Wheat</th>\n",
       "      <td>2004.5</td>\n",
       "      <td>38.972333</td>\n",
       "      <td>17743.566667</td>\n",
       "      <td>969202.066667</td>\n",
       "      <td>935854.811667</td>\n",
       "      <td>216398.761667</td>\n",
       "    </tr>\n",
       "  </tbody>\n",
       "</table>\n",
       "</div>"
      ],
      "text/plain": [
       "                       Year  mean rainfall    Yield_hg/ha       Nitrogen  \\\n",
       "Crop                                                                       \n",
       "Almonds, with shell  2004.5      38.972333   45741.900000  969202.066667   \n",
       "Apples               2004.5      38.972333  158059.233333  969202.066667   \n",
       "Barley               2004.5      38.972333   19061.266667  969202.066667   \n",
       "Maize                2004.5      38.972333   56736.700000  969202.066667   \n",
       "Oats                 2004.5      38.972333   15430.933333  969202.066667   \n",
       "Sorghum              2004.5      38.972333   26613.000000  969202.066667   \n",
       "Wheat                2004.5      38.972333   17743.566667  969202.066667   \n",
       "\n",
       "                         Phosphate      Potassium  \n",
       "Crop                                               \n",
       "Almonds, with shell  935854.811667  216398.761667  \n",
       "Apples               935854.811667  216398.761667  \n",
       "Barley               935854.811667  216398.761667  \n",
       "Maize                935854.811667  216398.761667  \n",
       "Oats                 935854.811667  216398.761667  \n",
       "Sorghum              935854.811667  216398.761667  \n",
       "Wheat                935854.811667  216398.761667  "
      ]
     },
     "execution_count": 6,
     "metadata": {},
     "output_type": "execute_result"
    }
   ],
   "source": [
    "dataset.groupby('Crop').mean()"
   ]
  },
  {
   "cell_type": "code",
   "execution_count": 7,
   "metadata": {
    "scrolled": true
   },
   "outputs": [
    {
     "data": {
      "text/html": [
       "<div>\n",
       "<style scoped>\n",
       "    .dataframe tbody tr th:only-of-type {\n",
       "        vertical-align: middle;\n",
       "    }\n",
       "\n",
       "    .dataframe tbody tr th {\n",
       "        vertical-align: top;\n",
       "    }\n",
       "\n",
       "    .dataframe thead th {\n",
       "        text-align: right;\n",
       "    }\n",
       "</style>\n",
       "<table border=\"1\" class=\"dataframe\">\n",
       "  <thead>\n",
       "    <tr style=\"text-align: right;\">\n",
       "      <th></th>\n",
       "      <th>Year</th>\n",
       "      <th>mean rainfall</th>\n",
       "      <th>Yield_hg/ha</th>\n",
       "      <th>Nitrogen</th>\n",
       "      <th>Phosphate</th>\n",
       "      <th>Potassium</th>\n",
       "    </tr>\n",
       "  </thead>\n",
       "  <tbody>\n",
       "    <tr>\n",
       "      <th>count</th>\n",
       "      <td>210.000000</td>\n",
       "      <td>210.000000</td>\n",
       "      <td>210.000000</td>\n",
       "      <td>2.100000e+02</td>\n",
       "      <td>2.100000e+02</td>\n",
       "      <td>210.000000</td>\n",
       "    </tr>\n",
       "    <tr>\n",
       "      <th>mean</th>\n",
       "      <td>2004.500000</td>\n",
       "      <td>38.972333</td>\n",
       "      <td>48483.800000</td>\n",
       "      <td>9.692021e+05</td>\n",
       "      <td>9.358548e+05</td>\n",
       "      <td>216398.761667</td>\n",
       "    </tr>\n",
       "    <tr>\n",
       "      <th>std</th>\n",
       "      <td>8.676124</td>\n",
       "      <td>7.373306</td>\n",
       "      <td>48300.447992</td>\n",
       "      <td>2.928505e+05</td>\n",
       "      <td>1.416013e+05</td>\n",
       "      <td>39487.343862</td>\n",
       "    </tr>\n",
       "    <tr>\n",
       "      <th>min</th>\n",
       "      <td>1990.000000</td>\n",
       "      <td>22.510000</td>\n",
       "      <td>7463.000000</td>\n",
       "      <td>4.394000e+05</td>\n",
       "      <td>5.837836e+05</td>\n",
       "      <td>142074.140000</td>\n",
       "    </tr>\n",
       "    <tr>\n",
       "      <th>25%</th>\n",
       "      <td>1997.000000</td>\n",
       "      <td>35.140000</td>\n",
       "      <td>18337.250000</td>\n",
       "      <td>8.350180e+05</td>\n",
       "      <td>8.423695e+05</td>\n",
       "      <td>188033.240000</td>\n",
       "    </tr>\n",
       "    <tr>\n",
       "      <th>50%</th>\n",
       "      <td>2004.500000</td>\n",
       "      <td>38.125000</td>\n",
       "      <td>25318.000000</td>\n",
       "      <td>9.622200e+05</td>\n",
       "      <td>9.561669e+05</td>\n",
       "      <td>220140.045000</td>\n",
       "    </tr>\n",
       "    <tr>\n",
       "      <th>75%</th>\n",
       "      <td>2012.000000</td>\n",
       "      <td>41.700000</td>\n",
       "      <td>56227.500000</td>\n",
       "      <td>1.124607e+06</td>\n",
       "      <td>1.041740e+06</td>\n",
       "      <td>239894.890000</td>\n",
       "    </tr>\n",
       "    <tr>\n",
       "      <th>max</th>\n",
       "      <td>2019.000000</td>\n",
       "      <td>55.880000</td>\n",
       "      <td>220805.000000</td>\n",
       "      <td>1.493809e+06</td>\n",
       "      <td>1.197014e+06</td>\n",
       "      <td>293693.530000</td>\n",
       "    </tr>\n",
       "  </tbody>\n",
       "</table>\n",
       "</div>"
      ],
      "text/plain": [
       "              Year  mean rainfall    Yield_hg/ha      Nitrogen     Phosphate  \\\n",
       "count   210.000000     210.000000     210.000000  2.100000e+02  2.100000e+02   \n",
       "mean   2004.500000      38.972333   48483.800000  9.692021e+05  9.358548e+05   \n",
       "std       8.676124       7.373306   48300.447992  2.928505e+05  1.416013e+05   \n",
       "min    1990.000000      22.510000    7463.000000  4.394000e+05  5.837836e+05   \n",
       "25%    1997.000000      35.140000   18337.250000  8.350180e+05  8.423695e+05   \n",
       "50%    2004.500000      38.125000   25318.000000  9.622200e+05  9.561669e+05   \n",
       "75%    2012.000000      41.700000   56227.500000  1.124607e+06  1.041740e+06   \n",
       "max    2019.000000      55.880000  220805.000000  1.493809e+06  1.197014e+06   \n",
       "\n",
       "           Potassium  \n",
       "count     210.000000  \n",
       "mean   216398.761667  \n",
       "std     39487.343862  \n",
       "min    142074.140000  \n",
       "25%    188033.240000  \n",
       "50%    220140.045000  \n",
       "75%    239894.890000  \n",
       "max    293693.530000  "
      ]
     },
     "execution_count": 7,
     "metadata": {},
     "output_type": "execute_result"
    }
   ],
   "source": [
    "dataset.describe()"
   ]
  },
  {
   "cell_type": "markdown",
   "metadata": {},
   "source": [
    "Dataframe shows data starts from 1997 to 2019 "
   ]
  },
  {
   "cell_type": "code",
   "execution_count": 8,
   "metadata": {},
   "outputs": [
    {
     "data": {
      "text/html": [
       "<div>\n",
       "<style scoped>\n",
       "    .dataframe tbody tr th:only-of-type {\n",
       "        vertical-align: middle;\n",
       "    }\n",
       "\n",
       "    .dataframe tbody tr th {\n",
       "        vertical-align: top;\n",
       "    }\n",
       "\n",
       "    .dataframe thead th {\n",
       "        text-align: right;\n",
       "    }\n",
       "</style>\n",
       "<table border=\"1\" class=\"dataframe\">\n",
       "  <thead>\n",
       "    <tr style=\"text-align: right;\">\n",
       "      <th></th>\n",
       "      <th>Year</th>\n",
       "      <th>mean rainfall</th>\n",
       "      <th>Crop</th>\n",
       "      <th>Yield_hg/ha</th>\n",
       "      <th>Nitrogen</th>\n",
       "      <th>Phosphate</th>\n",
       "      <th>Potassium</th>\n",
       "    </tr>\n",
       "  </thead>\n",
       "  <tbody>\n",
       "    <tr>\n",
       "      <th>0</th>\n",
       "      <td>1990</td>\n",
       "      <td>33.43</td>\n",
       "      <td>Almonds, with shell</td>\n",
       "      <td>16667</td>\n",
       "      <td>439400</td>\n",
       "      <td>583783.6</td>\n",
       "      <td>145373.54</td>\n",
       "    </tr>\n",
       "    <tr>\n",
       "      <th>1</th>\n",
       "      <td>1990</td>\n",
       "      <td>33.43</td>\n",
       "      <td>Apples</td>\n",
       "      <td>151376</td>\n",
       "      <td>439400</td>\n",
       "      <td>583783.6</td>\n",
       "      <td>145373.54</td>\n",
       "    </tr>\n",
       "    <tr>\n",
       "      <th>2</th>\n",
       "      <td>1990</td>\n",
       "      <td>33.43</td>\n",
       "      <td>Barley</td>\n",
       "      <td>16766</td>\n",
       "      <td>439400</td>\n",
       "      <td>583783.6</td>\n",
       "      <td>145373.54</td>\n",
       "    </tr>\n",
       "    <tr>\n",
       "      <th>3</th>\n",
       "      <td>1990</td>\n",
       "      <td>33.43</td>\n",
       "      <td>Maize</td>\n",
       "      <td>41821</td>\n",
       "      <td>439400</td>\n",
       "      <td>583783.6</td>\n",
       "      <td>145373.54</td>\n",
       "    </tr>\n",
       "    <tr>\n",
       "      <th>4</th>\n",
       "      <td>1990</td>\n",
       "      <td>33.43</td>\n",
       "      <td>Oats</td>\n",
       "      <td>14659</td>\n",
       "      <td>439400</td>\n",
       "      <td>583783.6</td>\n",
       "      <td>145373.54</td>\n",
       "    </tr>\n",
       "  </tbody>\n",
       "</table>\n",
       "</div>"
      ],
      "text/plain": [
       "   Year  mean rainfall                 Crop  Yield_hg/ha  Nitrogen  Phosphate  \\\n",
       "0  1990          33.43  Almonds, with shell        16667    439400   583783.6   \n",
       "1  1990          33.43               Apples       151376    439400   583783.6   \n",
       "2  1990          33.43               Barley        16766    439400   583783.6   \n",
       "3  1990          33.43                Maize        41821    439400   583783.6   \n",
       "4  1990          33.43                 Oats        14659    439400   583783.6   \n",
       "\n",
       "   Potassium  \n",
       "0  145373.54  \n",
       "1  145373.54  \n",
       "2  145373.54  \n",
       "3  145373.54  \n",
       "4  145373.54  "
      ]
     },
     "execution_count": 8,
     "metadata": {},
     "output_type": "execute_result"
    }
   ],
   "source": [
    "dataset.head()"
   ]
  },
  {
   "cell_type": "code",
   "execution_count": 9,
   "metadata": {},
   "outputs": [
    {
     "name": "stdout",
     "output_type": "stream",
     "text": [
      "<class 'pandas.core.frame.DataFrame'>\n",
      "Index: 210 entries, 0 to 209\n",
      "Data columns (total 7 columns):\n",
      " #   Column         Non-Null Count  Dtype  \n",
      "---  ------         --------------  -----  \n",
      " 0   Year           210 non-null    int64  \n",
      " 1   mean rainfall  210 non-null    float64\n",
      " 2   Crop           210 non-null    object \n",
      " 3   Yield_hg/ha    210 non-null    int64  \n",
      " 4   Nitrogen       210 non-null    int64  \n",
      " 5   Phosphate      210 non-null    float64\n",
      " 6   Potassium      210 non-null    float64\n",
      "dtypes: float64(3), int64(3), object(1)\n",
      "memory usage: 13.1+ KB\n"
     ]
    }
   ],
   "source": [
    "# Describing the dataset\n",
    "dataset.info()"
   ]
  },
  {
   "cell_type": "markdown",
   "metadata": {},
   "source": [
    "Data shows a non-zero values with all coluums being in right type"
   ]
  },
  {
   "cell_type": "code",
   "execution_count": 10,
   "metadata": {},
   "outputs": [],
   "source": [
    "# Import librariries\n",
    "import sklearn\n",
    "import seaborn as sns\n",
    "import matplotlib.pyplot as plt"
   ]
  },
  {
   "cell_type": "code",
   "execution_count": 11,
   "metadata": {
    "scrolled": false
   },
   "outputs": [
    {
     "name": "stderr",
     "output_type": "stream",
     "text": [
      "C:\\Users\\mafak\\AppData\\Local\\Temp/ipykernel_29216/92109168.py:4: DeprecationWarning: `np.bool` is a deprecated alias for the builtin `bool`. To silence this warning, use `bool` by itself. Doing this will not modify any behavior and is safe. If you specifically wanted the numpy scalar type, use `np.bool_` here.\n",
      "Deprecated in NumPy 1.20; for more details and guidance: https://numpy.org/devdocs/release/1.20.0-notes.html#deprecations\n",
      "  mask = np.zeros_like(correlation_data, dtype=np.bool)\n"
     ]
    },
    {
     "data": {
      "image/png": "[encoded data removed]",
      "text/plain": [
       "<Figure size 792x648 with 2 Axes>"
      ]
     },
     "metadata": {
      "needs_background": "light"
     },
     "output_type": "display_data"
    }
   ],
   "source": [
    "# Correlation test on the datasets from each column\n",
    "correlation_data=dataset.select_dtypes(include=[np.number]).corr()\n",
    "\n",
    "mask = np.zeros_like(correlation_data, dtype=np.bool)\n",
    "mask[np.triu_indices_from(mask)] = True\n",
    "\n",
    "f, ax = plt.subplots(figsize=(11, 9))\n",
    "\n",
    "# Generate a custom diverging colormap\n",
    "cmap = sns.palette=\"Blues_r\"\n",
    "\n",
    "# Draw the heatmap with the mask and correct aspect ratio\n",
    "sns.heatmap(correlation_data, mask=mask, cmap=cmap, vmax=.3, center=0,\n",
    "            square=True, linewidths=.5, cbar_kws={\"shrink\": .5});"
   ]
  },
  {
   "cell_type": "markdown",
   "metadata": {},
   "source": [
    "Correlation map shows there is no correlation between any of the colmuns in the dataframe"
   ]
  },
  {
   "cell_type": "markdown",
   "metadata": {},
   "source": [
    "# Machine learning processing: Encoding Categorical Variables:\n",
    "\n",
    "Data has one categorical column in the dataframe (i.e. crops) that contains label values instead of numerical values. Most machine learning algorithms effectviely operate on numerical data rather than directly on label data. For this reason we converted the categorical data/column for crop to a numerical form using ONE-HOT ENCODING. One hot encoding is an approach by means of which categorical variables are converted so they can be provided to ML algorithms to improve prediction. For that purpose, One-Hot Encoding has been used to convert the crop columns to one-hot numeric array."
   ]
  },
  {
   "cell_type": "code",
   "execution_count": 12,
   "metadata": {},
   "outputs": [],
   "source": [
    "from sklearn.preprocessing import OneHotEncoder"
   ]
  },
  {
   "cell_type": "code",
   "execution_count": 13,
   "metadata": {},
   "outputs": [
    {
     "data": {
      "text/html": [
       "<div>\n",
       "<style scoped>\n",
       "    .dataframe tbody tr th:only-of-type {\n",
       "        vertical-align: middle;\n",
       "    }\n",
       "\n",
       "    .dataframe tbody tr th {\n",
       "        vertical-align: top;\n",
       "    }\n",
       "\n",
       "    .dataframe thead th {\n",
       "        text-align: right;\n",
       "    }\n",
       "</style>\n",
       "<table border=\"1\" class=\"dataframe\">\n",
       "  <thead>\n",
       "    <tr style=\"text-align: right;\">\n",
       "      <th></th>\n",
       "      <th>Year</th>\n",
       "      <th>mean rainfall</th>\n",
       "      <th>Nitrogen</th>\n",
       "      <th>Phosphate</th>\n",
       "      <th>Potassium</th>\n",
       "      <th>Crop_Almonds, with shell</th>\n",
       "      <th>Crop_Apples</th>\n",
       "      <th>Crop_Barley</th>\n",
       "      <th>Crop_Maize</th>\n",
       "      <th>Crop_Oats</th>\n",
       "      <th>Crop_Sorghum</th>\n",
       "      <th>Crop_Wheat</th>\n",
       "    </tr>\n",
       "  </thead>\n",
       "  <tbody>\n",
       "    <tr>\n",
       "      <th>0</th>\n",
       "      <td>1990</td>\n",
       "      <td>33.43</td>\n",
       "      <td>439400</td>\n",
       "      <td>583783.6</td>\n",
       "      <td>145373.54</td>\n",
       "      <td>1</td>\n",
       "      <td>0</td>\n",
       "      <td>0</td>\n",
       "      <td>0</td>\n",
       "      <td>0</td>\n",
       "      <td>0</td>\n",
       "      <td>0</td>\n",
       "    </tr>\n",
       "    <tr>\n",
       "      <th>1</th>\n",
       "      <td>1990</td>\n",
       "      <td>33.43</td>\n",
       "      <td>439400</td>\n",
       "      <td>583783.6</td>\n",
       "      <td>145373.54</td>\n",
       "      <td>0</td>\n",
       "      <td>1</td>\n",
       "      <td>0</td>\n",
       "      <td>0</td>\n",
       "      <td>0</td>\n",
       "      <td>0</td>\n",
       "      <td>0</td>\n",
       "    </tr>\n",
       "    <tr>\n",
       "      <th>2</th>\n",
       "      <td>1990</td>\n",
       "      <td>33.43</td>\n",
       "      <td>439400</td>\n",
       "      <td>583783.6</td>\n",
       "      <td>145373.54</td>\n",
       "      <td>0</td>\n",
       "      <td>0</td>\n",
       "      <td>1</td>\n",
       "      <td>0</td>\n",
       "      <td>0</td>\n",
       "      <td>0</td>\n",
       "      <td>0</td>\n",
       "    </tr>\n",
       "    <tr>\n",
       "      <th>3</th>\n",
       "      <td>1990</td>\n",
       "      <td>33.43</td>\n",
       "      <td>439400</td>\n",
       "      <td>583783.6</td>\n",
       "      <td>145373.54</td>\n",
       "      <td>0</td>\n",
       "      <td>0</td>\n",
       "      <td>0</td>\n",
       "      <td>1</td>\n",
       "      <td>0</td>\n",
       "      <td>0</td>\n",
       "      <td>0</td>\n",
       "    </tr>\n",
       "    <tr>\n",
       "      <th>4</th>\n",
       "      <td>1990</td>\n",
       "      <td>33.43</td>\n",
       "      <td>439400</td>\n",
       "      <td>583783.6</td>\n",
       "      <td>145373.54</td>\n",
       "      <td>0</td>\n",
       "      <td>0</td>\n",
       "      <td>0</td>\n",
       "      <td>0</td>\n",
       "      <td>1</td>\n",
       "      <td>0</td>\n",
       "      <td>0</td>\n",
       "    </tr>\n",
       "  </tbody>\n",
       "</table>\n",
       "</div>"
      ],
      "text/plain": [
       "   Year  mean rainfall  Nitrogen  Phosphate  Potassium  \\\n",
       "0  1990          33.43    439400   583783.6  145373.54   \n",
       "1  1990          33.43    439400   583783.6  145373.54   \n",
       "2  1990          33.43    439400   583783.6  145373.54   \n",
       "3  1990          33.43    439400   583783.6  145373.54   \n",
       "4  1990          33.43    439400   583783.6  145373.54   \n",
       "\n",
       "   Crop_Almonds, with shell  Crop_Apples  Crop_Barley  Crop_Maize  Crop_Oats  \\\n",
       "0                         1            0            0           0          0   \n",
       "1                         0            1            0           0          0   \n",
       "2                         0            0            1           0          0   \n",
       "3                         0            0            0           1          0   \n",
       "4                         0            0            0           0          1   \n",
       "\n",
       "   Crop_Sorghum  Crop_Wheat  \n",
       "0             0           0  \n",
       "1             0           0  \n",
       "2             0           0  \n",
       "3             0           0  \n",
       "4             0           0  "
      ]
     },
     "execution_count": 13,
     "metadata": {},
     "output_type": "execute_result"
    }
   ],
   "source": [
    "dataset_onehot = pd.get_dummies(dataset, columns=[\"Crop\"], prefix = [\"Crop\"])\n",
    "features=dataset_onehot.loc[:, dataset_onehot.columns != 'Yield_hg/ha']\n",
    "label=dataset['Yield_hg/ha']\n",
    "features.head()\n",
    "\n",
    "#,\"Nitrogen\",\"Phosphate\",\"Potassium\"\n",
    "#,\"Nitrogen\",\"Phosphate\",\"Potassium\""
   ]
  },
  {
   "cell_type": "code",
   "execution_count": 14,
   "metadata": {},
   "outputs": [],
   "source": [
    "features = features.drop(['Year'], axis=1)"
   ]
  },
  {
   "cell_type": "code",
   "execution_count": 15,
   "metadata": {
    "scrolled": true
   },
   "outputs": [
    {
     "name": "stdout",
     "output_type": "stream",
     "text": [
      "<class 'pandas.core.frame.DataFrame'>\n",
      "Index: 210 entries, 0 to 209\n",
      "Data columns (total 11 columns):\n",
      " #   Column                    Non-Null Count  Dtype  \n",
      "---  ------                    --------------  -----  \n",
      " 0   mean rainfall             210 non-null    float64\n",
      " 1   Nitrogen                  210 non-null    int64  \n",
      " 2   Phosphate                 210 non-null    float64\n",
      " 3   Potassium                 210 non-null    float64\n",
      " 4   Crop_Almonds, with shell  210 non-null    uint8  \n",
      " 5   Crop_Apples               210 non-null    uint8  \n",
      " 6   Crop_Barley               210 non-null    uint8  \n",
      " 7   Crop_Maize                210 non-null    uint8  \n",
      " 8   Crop_Oats                 210 non-null    uint8  \n",
      " 9   Crop_Sorghum              210 non-null    uint8  \n",
      " 10  Crop_Wheat                210 non-null    uint8  \n",
      "dtypes: float64(3), int64(1), uint8(7)\n",
      "memory usage: 9.6+ KB\n"
     ]
    }
   ],
   "source": [
    "features.info()"
   ]
  },
  {
   "cell_type": "code",
   "execution_count": 16,
   "metadata": {},
   "outputs": [
    {
     "data": {
      "text/html": [
       "<div>\n",
       "<style scoped>\n",
       "    .dataframe tbody tr th:only-of-type {\n",
       "        vertical-align: middle;\n",
       "    }\n",
       "\n",
       "    .dataframe tbody tr th {\n",
       "        vertical-align: top;\n",
       "    }\n",
       "\n",
       "    .dataframe thead th {\n",
       "        text-align: right;\n",
       "    }\n",
       "</style>\n",
       "<table border=\"1\" class=\"dataframe\">\n",
       "  <thead>\n",
       "    <tr style=\"text-align: right;\">\n",
       "      <th></th>\n",
       "      <th>mean rainfall</th>\n",
       "      <th>Nitrogen</th>\n",
       "      <th>Phosphate</th>\n",
       "      <th>Potassium</th>\n",
       "      <th>Crop_Almonds, with shell</th>\n",
       "      <th>Crop_Apples</th>\n",
       "      <th>Crop_Barley</th>\n",
       "      <th>Crop_Maize</th>\n",
       "      <th>Crop_Oats</th>\n",
       "      <th>Crop_Sorghum</th>\n",
       "      <th>Crop_Wheat</th>\n",
       "    </tr>\n",
       "  </thead>\n",
       "  <tbody>\n",
       "    <tr>\n",
       "      <th>0</th>\n",
       "      <td>33.43</td>\n",
       "      <td>439400</td>\n",
       "      <td>583783.6</td>\n",
       "      <td>145373.54</td>\n",
       "      <td>1</td>\n",
       "      <td>0</td>\n",
       "      <td>0</td>\n",
       "      <td>0</td>\n",
       "      <td>0</td>\n",
       "      <td>0</td>\n",
       "      <td>0</td>\n",
       "    </tr>\n",
       "    <tr>\n",
       "      <th>1</th>\n",
       "      <td>33.43</td>\n",
       "      <td>439400</td>\n",
       "      <td>583783.6</td>\n",
       "      <td>145373.54</td>\n",
       "      <td>0</td>\n",
       "      <td>1</td>\n",
       "      <td>0</td>\n",
       "      <td>0</td>\n",
       "      <td>0</td>\n",
       "      <td>0</td>\n",
       "      <td>0</td>\n",
       "    </tr>\n",
       "    <tr>\n",
       "      <th>2</th>\n",
       "      <td>33.43</td>\n",
       "      <td>439400</td>\n",
       "      <td>583783.6</td>\n",
       "      <td>145373.54</td>\n",
       "      <td>0</td>\n",
       "      <td>0</td>\n",
       "      <td>1</td>\n",
       "      <td>0</td>\n",
       "      <td>0</td>\n",
       "      <td>0</td>\n",
       "      <td>0</td>\n",
       "    </tr>\n",
       "    <tr>\n",
       "      <th>3</th>\n",
       "      <td>33.43</td>\n",
       "      <td>439400</td>\n",
       "      <td>583783.6</td>\n",
       "      <td>145373.54</td>\n",
       "      <td>0</td>\n",
       "      <td>0</td>\n",
       "      <td>0</td>\n",
       "      <td>1</td>\n",
       "      <td>0</td>\n",
       "      <td>0</td>\n",
       "      <td>0</td>\n",
       "    </tr>\n",
       "    <tr>\n",
       "      <th>4</th>\n",
       "      <td>33.43</td>\n",
       "      <td>439400</td>\n",
       "      <td>583783.6</td>\n",
       "      <td>145373.54</td>\n",
       "      <td>0</td>\n",
       "      <td>0</td>\n",
       "      <td>0</td>\n",
       "      <td>0</td>\n",
       "      <td>1</td>\n",
       "      <td>0</td>\n",
       "      <td>0</td>\n",
       "    </tr>\n",
       "  </tbody>\n",
       "</table>\n",
       "</div>"
      ],
      "text/plain": [
       "   mean rainfall  Nitrogen  Phosphate  Potassium  Crop_Almonds, with shell  \\\n",
       "0          33.43    439400   583783.6  145373.54                         1   \n",
       "1          33.43    439400   583783.6  145373.54                         0   \n",
       "2          33.43    439400   583783.6  145373.54                         0   \n",
       "3          33.43    439400   583783.6  145373.54                         0   \n",
       "4          33.43    439400   583783.6  145373.54                         0   \n",
       "\n",
       "   Crop_Apples  Crop_Barley  Crop_Maize  Crop_Oats  Crop_Sorghum  Crop_Wheat  \n",
       "0            0            0           0          0             0           0  \n",
       "1            1            0           0          0             0           0  \n",
       "2            0            1           0          0             0           0  \n",
       "3            0            0           1          0             0           0  \n",
       "4            0            0           0          1             0           0  "
      ]
     },
     "execution_count": 16,
     "metadata": {},
     "output_type": "execute_result"
    }
   ],
   "source": [
    "features.head()"
   ]
  },
  {
   "cell_type": "code",
   "execution_count": null,
   "metadata": {},
   "outputs": [],
   "source": []
  },
  {
   "cell_type": "markdown",
   "metadata": {},
   "source": [
    "\n",
    "### Scaling of features\n",
    "\n",
    "From the dataset above, the magnitude of the features have high variation (in terms of units and range). This condition caused features with high magnitudes to weigh more than features with low magnitudes in the distance calculations. To deal with this all features need to be brought to the same level of magnitudes. This can be acheived by scaling."
   ]
  },
  {
   "cell_type": "code",
   "execution_count": 17,
   "metadata": {},
   "outputs": [],
   "source": [
    "# Import scaling library\n",
    "from sklearn.preprocessing import MinMaxScaler\n",
    "scaler=MinMaxScaler()\n",
    "features=scaler.fit_transform(features) "
   ]
  },
  {
   "cell_type": "markdown",
   "metadata": {},
   "source": [
    "After dropping year column in addition to scaling all values in features, the resulting array will look something like this : "
   ]
  },
  {
   "cell_type": "code",
   "execution_count": 18,
   "metadata": {
    "scrolled": false
   },
   "outputs": [
    {
     "data": {
      "text/plain": [
       "array([[0.32724004, 0.        , 0.        , ..., 0.        , 0.        ,\n",
       "        0.        ],\n",
       "       [0.32724004, 0.        , 0.        , ..., 0.        , 0.        ,\n",
       "        0.        ],\n",
       "       [0.32724004, 0.        , 0.        , ..., 0.        , 0.        ,\n",
       "        0.        ],\n",
       "       ...,\n",
       "       [0.        , 0.85184497, 0.60942803, ..., 1.        , 0.        ,\n",
       "        0.        ],\n",
       "       [0.        , 0.85184497, 0.60942803, ..., 0.        , 1.        ,\n",
       "        0.        ],\n",
       "       [0.        , 0.85184497, 0.60942803, ..., 0.        , 0.        ,\n",
       "        1.        ]])"
      ]
     },
     "execution_count": 18,
     "metadata": {},
     "output_type": "execute_result"
    }
   ],
   "source": [
    "features"
   ]
  },
  {
   "cell_type": "markdown",
   "metadata": {},
   "source": [
    "## Training data \n",
    "\n",
    "We adopted the 80/20 rule for training/testing of dataset. The test dataset is used to assess how well ML algorithm is trained with the training dataset"
   ]
  },
  {
   "cell_type": "code",
   "execution_count": 19,
   "metadata": {},
   "outputs": [],
   "source": [
    "# Import train/test library\n",
    "from sklearn.model_selection import train_test_split\n",
    "train_data, test_data, train_labels, test_labels = train_test_split(features, label, test_size=0.2, random_state=0)"
   ]
  },
  {
   "cell_type": "code",
   "execution_count": 20,
   "metadata": {},
   "outputs": [],
   "source": [
    "# Final df to csv file \n",
    "dataset.to_csv('dataset.csv')"
   ]
  },
  {
   "cell_type": "markdown",
   "metadata": {},
   "source": [
    "# Compare models & selection \n",
    "We used different models to compare and choose the best one that fits this specific dataset. For this project, we are comparing between the following models : \n",
    "- Random Forest Regressor\n",
    "- SVM \n",
    "- Decision Tree Regressor\n",
    "- Logistic Regression"
   ]
  },
  {
   "cell_type": "code",
   "execution_count": 21,
   "metadata": {},
   "outputs": [],
   "source": [
    "from sklearn.metrics import r2_score\n",
    "def compare_models(model):\n",
    "    model_name = model.__class__.__name__\n",
    "    fit=model.fit(train_data,train_labels)\n",
    "    y_pred=fit.predict(test_data)\n",
    "    r2=r2_score(test_labels,y_pred)\n",
    "    return([model_name,r2])"
   ]
  },
  {
   "cell_type": "code",
   "execution_count": 22,
   "metadata": {},
   "outputs": [],
   "source": [
    "from sklearn.ensemble import RandomForestRegressor\n",
    "from sklearn import svm\n",
    "from sklearn.tree import DecisionTreeRegressor\n",
    "from sklearn.linear_model import LogisticRegression\n",
    "logreg = LogisticRegression()\n",
    "models = [\n",
    "     RandomForestRegressor(n_estimators=200, max_depth=3, random_state=0),\n",
    "    svm.SVR(),\n",
    "   DecisionTreeRegressor(), logreg \n",
    "]"
   ]
  },
  {
   "cell_type": "code",
   "execution_count": 23,
   "metadata": {
    "scrolled": true
   },
   "outputs": [],
   "source": [
    "model_train=list(map(compare_models,models)) "
   ]
  },
  {
   "cell_type": "code",
   "execution_count": 24,
   "metadata": {},
   "outputs": [
    {
     "name": "stdout",
     "output_type": "stream",
     "text": [
      "['RandomForestRegressor', 0.9730654603138797]\n",
      "['SVR', -0.2505565930471332]\n",
      "['DecisionTreeRegressor', 0.971326297408008]\n",
      "['LogisticRegression', 0.9728410084620452]\n"
     ]
    }
   ],
   "source": [
    "print(*model_train, sep = \"\\n\")"
   ]
  },
  {
   "cell_type": "markdown",
   "metadata": {},
   "source": [
    "From results, **Random Forest Regressor** and **Logistic Regression** have the highest R^2 score 0f **96%**, followed by **Decison Tree Regressor**; the **SVM** is not a good modelling tool for the type of data"
   ]
  },
  {
   "cell_type": "code",
   "execution_count": 25,
   "metadata": {},
   "outputs": [],
   "source": [
    "dataset_onehot = dataset_onehot.drop(['Year'], axis=1)"
   ]
  },
  {
   "cell_type": "code",
   "execution_count": 26,
   "metadata": {},
   "outputs": [
    {
     "data": {
      "text/html": [
       "<div>\n",
       "<style scoped>\n",
       "    .dataframe tbody tr th:only-of-type {\n",
       "        vertical-align: middle;\n",
       "    }\n",
       "\n",
       "    .dataframe tbody tr th {\n",
       "        vertical-align: top;\n",
       "    }\n",
       "\n",
       "    .dataframe thead th {\n",
       "        text-align: right;\n",
       "    }\n",
       "</style>\n",
       "<table border=\"1\" class=\"dataframe\">\n",
       "  <thead>\n",
       "    <tr style=\"text-align: right;\">\n",
       "      <th></th>\n",
       "      <th>mean rainfall</th>\n",
       "      <th>Yield_hg/ha</th>\n",
       "      <th>Nitrogen</th>\n",
       "      <th>Phosphate</th>\n",
       "      <th>Potassium</th>\n",
       "      <th>Crop_Almonds, with shell</th>\n",
       "      <th>Crop_Apples</th>\n",
       "      <th>Crop_Barley</th>\n",
       "      <th>Crop_Maize</th>\n",
       "      <th>Crop_Oats</th>\n",
       "      <th>Crop_Sorghum</th>\n",
       "      <th>Crop_Wheat</th>\n",
       "    </tr>\n",
       "  </thead>\n",
       "  <tbody>\n",
       "    <tr>\n",
       "      <th>0</th>\n",
       "      <td>33.43</td>\n",
       "      <td>16667</td>\n",
       "      <td>439400</td>\n",
       "      <td>583783.6</td>\n",
       "      <td>145373.54</td>\n",
       "      <td>1</td>\n",
       "      <td>0</td>\n",
       "      <td>0</td>\n",
       "      <td>0</td>\n",
       "      <td>0</td>\n",
       "      <td>0</td>\n",
       "      <td>0</td>\n",
       "    </tr>\n",
       "    <tr>\n",
       "      <th>1</th>\n",
       "      <td>33.43</td>\n",
       "      <td>151376</td>\n",
       "      <td>439400</td>\n",
       "      <td>583783.6</td>\n",
       "      <td>145373.54</td>\n",
       "      <td>0</td>\n",
       "      <td>1</td>\n",
       "      <td>0</td>\n",
       "      <td>0</td>\n",
       "      <td>0</td>\n",
       "      <td>0</td>\n",
       "      <td>0</td>\n",
       "    </tr>\n",
       "    <tr>\n",
       "      <th>2</th>\n",
       "      <td>33.43</td>\n",
       "      <td>16766</td>\n",
       "      <td>439400</td>\n",
       "      <td>583783.6</td>\n",
       "      <td>145373.54</td>\n",
       "      <td>0</td>\n",
       "      <td>0</td>\n",
       "      <td>1</td>\n",
       "      <td>0</td>\n",
       "      <td>0</td>\n",
       "      <td>0</td>\n",
       "      <td>0</td>\n",
       "    </tr>\n",
       "    <tr>\n",
       "      <th>3</th>\n",
       "      <td>33.43</td>\n",
       "      <td>41821</td>\n",
       "      <td>439400</td>\n",
       "      <td>583783.6</td>\n",
       "      <td>145373.54</td>\n",
       "      <td>0</td>\n",
       "      <td>0</td>\n",
       "      <td>0</td>\n",
       "      <td>1</td>\n",
       "      <td>0</td>\n",
       "      <td>0</td>\n",
       "      <td>0</td>\n",
       "    </tr>\n",
       "    <tr>\n",
       "      <th>4</th>\n",
       "      <td>33.43</td>\n",
       "      <td>14659</td>\n",
       "      <td>439400</td>\n",
       "      <td>583783.6</td>\n",
       "      <td>145373.54</td>\n",
       "      <td>0</td>\n",
       "      <td>0</td>\n",
       "      <td>0</td>\n",
       "      <td>0</td>\n",
       "      <td>1</td>\n",
       "      <td>0</td>\n",
       "      <td>0</td>\n",
       "    </tr>\n",
       "  </tbody>\n",
       "</table>\n",
       "</div>"
      ],
      "text/plain": [
       "   mean rainfall  Yield_hg/ha  Nitrogen  Phosphate  Potassium  \\\n",
       "0          33.43        16667    439400   583783.6  145373.54   \n",
       "1          33.43       151376    439400   583783.6  145373.54   \n",
       "2          33.43        16766    439400   583783.6  145373.54   \n",
       "3          33.43        41821    439400   583783.6  145373.54   \n",
       "4          33.43        14659    439400   583783.6  145373.54   \n",
       "\n",
       "   Crop_Almonds, with shell  Crop_Apples  Crop_Barley  Crop_Maize  Crop_Oats  \\\n",
       "0                         1            0            0           0          0   \n",
       "1                         0            1            0           0          0   \n",
       "2                         0            0            1           0          0   \n",
       "3                         0            0            0           1          0   \n",
       "4                         0            0            0           0          1   \n",
       "\n",
       "   Crop_Sorghum  Crop_Wheat  \n",
       "0             0           0  \n",
       "1             0           0  \n",
       "2             0           0  \n",
       "3             0           0  \n",
       "4             0           0  "
      ]
     },
     "execution_count": 26,
     "metadata": {},
     "output_type": "execute_result"
    }
   ],
   "source": [
    "dataset_onehot.head()"
   ]
  },
  {
   "cell_type": "code",
   "execution_count": 27,
   "metadata": {},
   "outputs": [],
   "source": [
    "#setting test data to columns from dataframe and excluding 'Yield_hg/ha' values where ML model should be predicting \n",
    "\n",
    "test_df=pd.DataFrame(test_data,columns=dataset_onehot.loc[:, dataset_onehot.columns != 'Yield_hg/ha'].columns) \n",
    "\n",
    "# using stack function to return a reshaped DataFrame by pivoting the columns of the current dataframe\n",
    "\n",
    "crp=test_df[[col for col in test_df.columns if 'Crop' in col]].stack()[test_df[[col for col in test_df.columns if 'Crop' in col]].stack()>0]\n",
    "crplist=list(pd.DataFrame(crp).index.get_level_values(1))\n",
    "crops=[i.split(\"_\")[1] for i in crplist]\n",
    "#itm=test_df[[col for col in test_df.columns if 'Item' in col]].stack()[test_df[[col for col in test_df.columns if 'Item' in col]].stack()>0]\n",
    "#itmlist=list(pd.DataFrame(itm).index.get_level_values(1))\n",
    "#items=[i.split(\"_\")[1] for i in itmlist]"
   ]
  },
  {
   "cell_type": "code",
   "execution_count": 28,
   "metadata": {},
   "outputs": [
    {
     "data": {
      "text/html": [
       "<div>\n",
       "<style scoped>\n",
       "    .dataframe tbody tr th:only-of-type {\n",
       "        vertical-align: middle;\n",
       "    }\n",
       "\n",
       "    .dataframe tbody tr th {\n",
       "        vertical-align: top;\n",
       "    }\n",
       "\n",
       "    .dataframe thead th {\n",
       "        text-align: right;\n",
       "    }\n",
       "</style>\n",
       "<table border=\"1\" class=\"dataframe\">\n",
       "  <thead>\n",
       "    <tr style=\"text-align: right;\">\n",
       "      <th></th>\n",
       "      <th>mean rainfall</th>\n",
       "      <th>Nitrogen</th>\n",
       "      <th>Phosphate</th>\n",
       "      <th>Potassium</th>\n",
       "      <th>Crop_Almonds, with shell</th>\n",
       "      <th>Crop_Apples</th>\n",
       "      <th>Crop_Barley</th>\n",
       "      <th>Crop_Maize</th>\n",
       "      <th>Crop_Oats</th>\n",
       "      <th>Crop_Sorghum</th>\n",
       "      <th>Crop_Wheat</th>\n",
       "    </tr>\n",
       "  </thead>\n",
       "  <tbody>\n",
       "    <tr>\n",
       "      <th>0</th>\n",
       "      <td>0.471681</td>\n",
       "      <td>0.021718</td>\n",
       "      <td>0.166584</td>\n",
       "      <td>0.000000</td>\n",
       "      <td>0.0</td>\n",
       "      <td>0.0</td>\n",
       "      <td>0.0</td>\n",
       "      <td>0.0</td>\n",
       "      <td>0.0</td>\n",
       "      <td>1.0</td>\n",
       "      <td>0.0</td>\n",
       "    </tr>\n",
       "    <tr>\n",
       "      <th>1</th>\n",
       "      <td>0.635301</td>\n",
       "      <td>0.563918</td>\n",
       "      <td>1.000000</td>\n",
       "      <td>0.658767</td>\n",
       "      <td>0.0</td>\n",
       "      <td>0.0</td>\n",
       "      <td>0.0</td>\n",
       "      <td>1.0</td>\n",
       "      <td>0.0</td>\n",
       "      <td>0.0</td>\n",
       "      <td>0.0</td>\n",
       "    </tr>\n",
       "    <tr>\n",
       "      <th>2</th>\n",
       "      <td>0.144741</td>\n",
       "      <td>0.136380</td>\n",
       "      <td>0.565368</td>\n",
       "      <td>0.511055</td>\n",
       "      <td>0.0</td>\n",
       "      <td>0.0</td>\n",
       "      <td>0.0</td>\n",
       "      <td>0.0</td>\n",
       "      <td>0.0</td>\n",
       "      <td>1.0</td>\n",
       "      <td>0.0</td>\n",
       "    </tr>\n",
       "    <tr>\n",
       "      <th>3</th>\n",
       "      <td>0.327240</td>\n",
       "      <td>0.000000</td>\n",
       "      <td>0.000000</td>\n",
       "      <td>0.021761</td>\n",
       "      <td>0.0</td>\n",
       "      <td>0.0</td>\n",
       "      <td>0.0</td>\n",
       "      <td>0.0</td>\n",
       "      <td>0.0</td>\n",
       "      <td>1.0</td>\n",
       "      <td>0.0</td>\n",
       "    </tr>\n",
       "    <tr>\n",
       "      <th>4</th>\n",
       "      <td>0.669164</td>\n",
       "      <td>0.981321</td>\n",
       "      <td>0.594258</td>\n",
       "      <td>0.747225</td>\n",
       "      <td>0.0</td>\n",
       "      <td>0.0</td>\n",
       "      <td>0.0</td>\n",
       "      <td>0.0</td>\n",
       "      <td>0.0</td>\n",
       "      <td>0.0</td>\n",
       "      <td>1.0</td>\n",
       "    </tr>\n",
       "  </tbody>\n",
       "</table>\n",
       "</div>"
      ],
      "text/plain": [
       "   mean rainfall  Nitrogen  Phosphate  Potassium  Crop_Almonds, with shell  \\\n",
       "0       0.471681  0.021718   0.166584   0.000000                       0.0   \n",
       "1       0.635301  0.563918   1.000000   0.658767                       0.0   \n",
       "2       0.144741  0.136380   0.565368   0.511055                       0.0   \n",
       "3       0.327240  0.000000   0.000000   0.021761                       0.0   \n",
       "4       0.669164  0.981321   0.594258   0.747225                       0.0   \n",
       "\n",
       "   Crop_Apples  Crop_Barley  Crop_Maize  Crop_Oats  Crop_Sorghum  Crop_Wheat  \n",
       "0          0.0          0.0         0.0        0.0           1.0         0.0  \n",
       "1          0.0          0.0         1.0        0.0           0.0         0.0  \n",
       "2          0.0          0.0         0.0        0.0           1.0         0.0  \n",
       "3          0.0          0.0         0.0        0.0           1.0         0.0  \n",
       "4          0.0          0.0         0.0        0.0           0.0         1.0  "
      ]
     },
     "execution_count": 28,
     "metadata": {},
     "output_type": "execute_result"
    }
   ],
   "source": [
    "test_df.head()"
   ]
  },
  {
   "cell_type": "code",
   "execution_count": 29,
   "metadata": {},
   "outputs": [
    {
     "data": {
      "text/html": [
       "<div>\n",
       "<style scoped>\n",
       "    .dataframe tbody tr th:only-of-type {\n",
       "        vertical-align: middle;\n",
       "    }\n",
       "\n",
       "    .dataframe tbody tr th {\n",
       "        vertical-align: top;\n",
       "    }\n",
       "\n",
       "    .dataframe thead th {\n",
       "        text-align: right;\n",
       "    }\n",
       "</style>\n",
       "<table border=\"1\" class=\"dataframe\">\n",
       "  <thead>\n",
       "    <tr style=\"text-align: right;\">\n",
       "      <th></th>\n",
       "      <th>mean rainfall</th>\n",
       "      <th>Nitrogen</th>\n",
       "      <th>Phosphate</th>\n",
       "      <th>Potassium</th>\n",
       "    </tr>\n",
       "  </thead>\n",
       "  <tbody>\n",
       "    <tr>\n",
       "      <th>0</th>\n",
       "      <td>0.471681</td>\n",
       "      <td>0.021718</td>\n",
       "      <td>0.166584</td>\n",
       "      <td>0.000000</td>\n",
       "    </tr>\n",
       "    <tr>\n",
       "      <th>1</th>\n",
       "      <td>0.635301</td>\n",
       "      <td>0.563918</td>\n",
       "      <td>1.000000</td>\n",
       "      <td>0.658767</td>\n",
       "    </tr>\n",
       "    <tr>\n",
       "      <th>2</th>\n",
       "      <td>0.144741</td>\n",
       "      <td>0.136380</td>\n",
       "      <td>0.565368</td>\n",
       "      <td>0.511055</td>\n",
       "    </tr>\n",
       "    <tr>\n",
       "      <th>3</th>\n",
       "      <td>0.327240</td>\n",
       "      <td>0.000000</td>\n",
       "      <td>0.000000</td>\n",
       "      <td>0.021761</td>\n",
       "    </tr>\n",
       "    <tr>\n",
       "      <th>4</th>\n",
       "      <td>0.669164</td>\n",
       "      <td>0.981321</td>\n",
       "      <td>0.594258</td>\n",
       "      <td>0.747225</td>\n",
       "    </tr>\n",
       "  </tbody>\n",
       "</table>\n",
       "</div>"
      ],
      "text/plain": [
       "   mean rainfall  Nitrogen  Phosphate  Potassium\n",
       "0       0.471681  0.021718   0.166584   0.000000\n",
       "1       0.635301  0.563918   1.000000   0.658767\n",
       "2       0.144741  0.136380   0.565368   0.511055\n",
       "3       0.327240  0.000000   0.000000   0.021761\n",
       "4       0.669164  0.981321   0.594258   0.747225"
      ]
     },
     "execution_count": 29,
     "metadata": {},
     "output_type": "execute_result"
    }
   ],
   "source": [
    "#test_df.drop([col for col in test_df.columns if 'Item' in col],axis=1,inplace=True)\n",
    "test_df.drop([col for col in test_df.columns if 'Crop' in col],axis=1,inplace=True)\n",
    "test_df.head()"
   ]
  },
  {
   "cell_type": "code",
   "execution_count": 30,
   "metadata": {},
   "outputs": [
    {
     "data": {
      "text/html": [
       "<div>\n",
       "<style scoped>\n",
       "    .dataframe tbody tr th:only-of-type {\n",
       "        vertical-align: middle;\n",
       "    }\n",
       "\n",
       "    .dataframe tbody tr th {\n",
       "        vertical-align: top;\n",
       "    }\n",
       "\n",
       "    .dataframe thead th {\n",
       "        text-align: right;\n",
       "    }\n",
       "</style>\n",
       "<table border=\"1\" class=\"dataframe\">\n",
       "  <thead>\n",
       "    <tr style=\"text-align: right;\">\n",
       "      <th></th>\n",
       "      <th>mean rainfall</th>\n",
       "      <th>Nitrogen</th>\n",
       "      <th>Phosphate</th>\n",
       "      <th>Potassium</th>\n",
       "      <th>Crop</th>\n",
       "    </tr>\n",
       "  </thead>\n",
       "  <tbody>\n",
       "    <tr>\n",
       "      <th>0</th>\n",
       "      <td>0.471681</td>\n",
       "      <td>0.021718</td>\n",
       "      <td>0.166584</td>\n",
       "      <td>0.000000</td>\n",
       "      <td>Sorghum</td>\n",
       "    </tr>\n",
       "    <tr>\n",
       "      <th>1</th>\n",
       "      <td>0.635301</td>\n",
       "      <td>0.563918</td>\n",
       "      <td>1.000000</td>\n",
       "      <td>0.658767</td>\n",
       "      <td>Maize</td>\n",
       "    </tr>\n",
       "    <tr>\n",
       "      <th>2</th>\n",
       "      <td>0.144741</td>\n",
       "      <td>0.136380</td>\n",
       "      <td>0.565368</td>\n",
       "      <td>0.511055</td>\n",
       "      <td>Sorghum</td>\n",
       "    </tr>\n",
       "    <tr>\n",
       "      <th>3</th>\n",
       "      <td>0.327240</td>\n",
       "      <td>0.000000</td>\n",
       "      <td>0.000000</td>\n",
       "      <td>0.021761</td>\n",
       "      <td>Sorghum</td>\n",
       "    </tr>\n",
       "    <tr>\n",
       "      <th>4</th>\n",
       "      <td>0.669164</td>\n",
       "      <td>0.981321</td>\n",
       "      <td>0.594258</td>\n",
       "      <td>0.747225</td>\n",
       "      <td>Wheat</td>\n",
       "    </tr>\n",
       "  </tbody>\n",
       "</table>\n",
       "</div>"
      ],
      "text/plain": [
       "   mean rainfall  Nitrogen  Phosphate  Potassium     Crop\n",
       "0       0.471681  0.021718   0.166584   0.000000  Sorghum\n",
       "1       0.635301  0.563918   1.000000   0.658767    Maize\n",
       "2       0.144741  0.136380   0.565368   0.511055  Sorghum\n",
       "3       0.327240  0.000000   0.000000   0.021761  Sorghum\n",
       "4       0.669164  0.981321   0.594258   0.747225    Wheat"
      ]
     },
     "execution_count": 30,
     "metadata": {},
     "output_type": "execute_result"
    }
   ],
   "source": [
    "test_df['Crop']=crops\n",
    "#test_df['Item']=items\n",
    "test_df.head()"
   ]
  },
  {
   "cell_type": "markdown",
   "metadata": {},
   "source": [
    "# Random forest - classification for crops"
   ]
  },
  {
   "cell_type": "code",
   "execution_count": 31,
   "metadata": {},
   "outputs": [],
   "source": [
    "# Creat variables to define dependent and independent variables\n",
    "features = ['mean rainfall','Yield_hg/ha','Nitrogen','Phosphate','Potassium']\n",
    "target = ['Crop']\n",
    "\n",
    "# Split the data up into features and labels\n",
    "X = dataset[features]\n",
    "y = dataset[target]"
   ]
  },
  {
   "cell_type": "code",
   "execution_count": 32,
   "metadata": {},
   "outputs": [],
   "source": [
    "# Test size to 20% of whole dataset\n",
    "X_train,X_test,y_train,y_test = train_test_split(X,y,test_size=0.2)"
   ]
  },
  {
   "cell_type": "code",
   "execution_count": 33,
   "metadata": {},
   "outputs": [
    {
     "name": "stdout",
     "output_type": "stream",
     "text": [
      "mean rainfall (min,max): \t \t 22.51 55.88\n",
      "Yield_hg/ha (min,max): \t \t 7463.00 220805.00\n",
      "Nitrogen (min,max): \t \t 439400.00 1493809.00\n",
      "Phosphate (min,max): \t \t 583783.60 1197013.53\n",
      "Potassium (min,max): \t \t 142074.14 293693.53\n"
     ]
    }
   ],
   "source": [
    "# Data Preprocessing\n",
    "for ii, col in enumerate(features):\n",
    "  print('{} (min,max): \\t \\t {:.2f} {:.2f}'.format(col,dataset[col].min(),dataset[col].max()))"
   ]
  },
  {
   "cell_type": "markdown",
   "metadata": {},
   "source": [
    "The different features in the dataset have different range such as yield, nitrogen, phosphate and potassium having higher numbers than mean rainfall. Again this was rescaled to the range of 0 and 1."
   ]
  },
  {
   "cell_type": "code",
   "execution_count": 34,
   "metadata": {},
   "outputs": [],
   "source": [
    "# scale inputs - apply the scaling after splitting data into training and test, to avoid bias in the training,\n",
    "# as scaling would depend on the test data which \n",
    "\n",
    "from sklearn.preprocessing import MinMaxScaler, LabelEncoder\n",
    "mmscaler = MinMaxScaler() \n",
    "X_train = mmscaler.fit_transform(X_train)\n",
    "X_test = mmscaler.transform(X_test)\n",
    "\n",
    "# Change labels to numerical values \n",
    "y_train = LabelEncoder().fit_transform(np.asarray(y_train).ravel())\n",
    "y_test = LabelEncoder().fit_transform(np.asarray(y_test).ravel())"
   ]
  },
  {
   "cell_type": "code",
   "execution_count": 35,
   "metadata": {},
   "outputs": [
    {
     "name": "stdout",
     "output_type": "stream",
     "text": [
      "mean rainfall (min,max): \t \t 0.00 1.00\n",
      "Yield_hg/ha (min,max): \t \t 0.00 1.00\n",
      "Nitrogen (min,max): \t \t 0.00 1.00\n",
      "Phosphate (min,max): \t \t 0.00 1.00\n",
      "Potassium (min,max): \t \t 0.00 1.00\n"
     ]
    }
   ],
   "source": [
    "for ii, col in enumerate(features):\n",
    "  print('{} (min,max): \\t \\t {:.2f} {:.2f}'.format(col,X_train[:,ii].min(),X_train[:,ii].max()))"
   ]
  },
  {
   "cell_type": "code",
   "execution_count": 36,
   "metadata": {},
   "outputs": [
    {
     "name": "stdout",
     "output_type": "stream",
     "text": [
      "Training Accuracy: 100.0%, Test Accuracy: 26.2%\n"
     ]
    }
   ],
   "source": [
    "# Use classification model\n",
    "from sklearn.ensemble import RandomForestClassifier\n",
    "from sklearn import metrics \n",
    "model = RandomForestClassifier()\n",
    "\n",
    "# Fit the model to the training data \n",
    "model.fit(X_train,y_train)\n",
    "\n",
    "# get predictions on the test data \n",
    "y_pred=model.predict(X_test)\n",
    "\n",
    "# print training and test accuracy\n",
    "print('Training Accuracy: {:.1f}%, Test Accuracy: {:.1f}%'.format(metrics.accuracy_score(y_train,model.predict(X_train))*100,metrics.accuracy_score(y_test,model.predict(X_test))*100))"
   ]
  },
  {
   "cell_type": "markdown",
   "metadata": {},
   "source": [
    "# Evaluation - confusion matrix"
   ]
  },
  {
   "cell_type": "code",
   "execution_count": 37,
   "metadata": {},
   "outputs": [
    {
     "name": "stdout",
     "output_type": "stream",
     "text": [
      "['Almonds, with shell' 'Apples' 'Barley' 'Maize' 'Oats' 'Sorghum' 'Wheat']\n"
     ]
    }
   ],
   "source": [
    "# Types of crops in the data\n",
    "crop_types = dataset['Crop'].unique()\n",
    "print(crop_types)"
   ]
  },
  {
   "cell_type": "code",
   "execution_count": 38,
   "metadata": {},
   "outputs": [
    {
     "data": {
      "image/png": "[encoded data removed]",
      "text/plain": [
       "<Figure size 720x720 with 2 Axes>"
      ]
     },
     "metadata": {
      "needs_background": "light"
     },
     "output_type": "display_data"
    }
   ],
   "source": [
    "from sklearn.metrics import confusion_matrix\n",
    "y_pred=model.predict(X_test)\n",
    "metrics.accuracy_score(y_test,y_pred)\n",
    "plt.figure(figsize=(10,10))\n",
    "sns.heatmap(confusion_matrix(y_pred,y_test),square=True,cmap='Blues_r',annot=True,fmt=\".0f\",linewidths=.5)\n",
    "ax = plt.gca()\n",
    "_ = ax.set_xticklabels(crop_types,rotation='vertical')\n",
    "_ = ax.set_yticklabels(crop_types,rotation='horizontal')\n",
    "plt.tight_layout()"
   ]
  },
  {
   "cell_type": "markdown",
   "metadata": {},
   "source": [
    "The matrix has non-zeros in the off-diagonals suggest model is not 100% (or retruned a wrong label)"
   ]
  },
  {
   "cell_type": "markdown",
   "metadata": {},
   "source": [
    "# Precision, recall "
   ]
  },
  {
   "cell_type": "code",
   "execution_count": 39,
   "metadata": {},
   "outputs": [
    {
     "name": "stdout",
     "output_type": "stream",
     "text": [
      "              precision    recall  f1-score   support\n",
      "\n",
      "           0       0.00      0.00      0.00         8\n",
      "           1       1.00      1.00      1.00         4\n",
      "           2       0.14      0.17      0.15         6\n",
      "           3       0.25      0.33      0.29         6\n",
      "           4       0.50      0.33      0.40         6\n",
      "           5       0.29      0.20      0.24        10\n",
      "           6       0.00      0.00      0.00         2\n",
      "\n",
      "    accuracy                           0.26        42\n",
      "   macro avg       0.31      0.29      0.30        42\n",
      "weighted avg       0.29      0.26      0.27        42\n",
      "\n"
     ]
    }
   ],
   "source": [
    "print(metrics.classification_report(y_pred,y_test))"
   ]
  },
  {
   "cell_type": "markdown",
   "metadata": {},
   "source": [
    "Precision - dictates true positive prediction; from above 66% is true positive and 34% is false positive\n",
    "Recall - this is how often the algorithm returned correct class; from above, 32% of the cases were right"
   ]
  },
  {
   "cell_type": "markdown",
   "metadata": {},
   "source": [
    "# Visualising decision tree"
   ]
  },
  {
   "cell_type": "code",
   "execution_count": 40,
   "metadata": {},
   "outputs": [
    {
     "name": "stdout",
     "output_type": "stream",
     "text": [
      "Training Accuracy: 67.3%, Test Accuracy: 21.4%\n",
      "there are 100 trees in the forest\n"
     ]
    },
    {
     "data": {
      "image/png": "[encoded data removed]",
      "text/plain": [
       "<Figure size 1000x1000 with 1 Axes>"
      ]
     },
     "metadata": {
      "needs_background": "light"
     },
     "output_type": "display_data"
    }
   ],
   "source": [
    "from sklearn import tree\n",
    "\n",
    "# Fit forest with a maximum depth of 3 easy visualisation\n",
    "small_rf = RandomForestClassifier(max_depth=3)\n",
    "\n",
    "# Fitting the forest to the training data \n",
    "small_rf.fit(X_train,y_train)\n",
    "\n",
    "# Pedictions on the test data \n",
    "y_pred=small_rf.predict(X_test)\n",
    "\n",
    "# print training and test accuracy\n",
    "print('Training Accuracy: {:.1f}%, Test Accuracy: {:.1f}%'.format(metrics.accuracy_score(y_train,small_rf.predict(X_train))*100,metrics.accuracy_score(y_test,small_rf.predict(X_test))*100))\n",
    "\n",
    "# Get list of decision trees\n",
    "trees = small_rf.estimators_\n",
    "\n",
    "# Number of trees \n",
    "print('there are {n} trees in the forest'.format(n=len(trees)))\n",
    "\n",
    "# Visualise the first tree \n",
    "fig, axes = plt.subplots(nrows = 1,ncols = 1,figsize = (5,5),dpi=200)\n",
    "tree.plot_tree(trees[0],\n",
    "               feature_names = features, \n",
    "               class_names=crop_types,\n",
    "               filled = True);"
   ]
  },
  {
   "cell_type": "markdown",
   "metadata": {},
   "source": [
    "# Feature selection - visualising the important features"
   ]
  },
  {
   "cell_type": "code",
   "execution_count": 41,
   "metadata": {},
   "outputs": [
    {
     "data": {
      "image/png": "[encoded data removed]",
      "text/plain": [
       "<Figure size 432x288 with 1 Axes>"
      ]
     },
     "metadata": {
      "needs_background": "light"
     },
     "output_type": "display_data"
    }
   ],
   "source": [
    "from sklearn.feature_selection import SelectKBest, f_classif, RFE\n",
    "selector = SelectKBest(score_func=f_classif,k='all')\n",
    "X_train_kbest = selector.fit_transform(X_train,np.asarray(y_train).ravel())\n",
    "scores = selector.scores_\n",
    "\n",
    "X_test_kbest = selector.transform(X_test)\n",
    "mask = selector.get_support() \n",
    "\n",
    "#list of booleans\n",
    "new_features = [] \n",
    "scores = scores[mask==True]\n",
    "for bool, feature in zip(mask, features):\n",
    "    if bool:\n",
    "        new_features.append(feature)\n",
    "        \n",
    "_ = sns.barplot(x=new_features,y=scores,log=True)\n",
    "plt.ylabel('Score')\n",
    "plt.xlabel('Predictor' )\n",
    "_= plt.xticks(ticks=np.arange(X_train_kbest.shape[-1]),labels=new_features,rotation='vertical')"
   ]
  },
  {
   "cell_type": "markdown",
   "metadata": {},
   "source": [
    "Yield has the highest importance in the decision making for the model as it's the highest predictor in the dataset. We also see the effect of fertilizers, where phosphate and potassium have the second and third importance features"
   ]
  },
  {
   "cell_type": "markdown",
   "metadata": {},
   "source": [
    "# Comparison with other classifiers"
   ]
  },
  {
   "cell_type": "code",
   "execution_count": 42,
   "metadata": {},
   "outputs": [
    {
     "name": "stdout",
     "output_type": "stream",
     "text": [
      "10 fold cv\n",
      "LogisticRegression 0.429\n",
      "DecisionTreeClassifier 0.543\n",
      "RandomForestClassifier 0.557\n",
      "SVM 0.5\n"
     ]
    }
   ],
   "source": [
    "from sklearn.tree import DecisionTreeClassifier\n",
    "from sklearn.svm import SVC\n",
    "from sklearn.pipeline import Pipeline\n",
    "from sklearn.model_selection import train_test_split, cross_val_score\n",
    "models = []\n",
    "models.append(('LogisticRegression',LogisticRegression(max_iter=5000)))\n",
    "models.append(('DecisionTreeClassifier',DecisionTreeClassifier()))\n",
    "models.append(('RandomForestClassifier',RandomForestClassifier()))\n",
    "models.append(('SVM',SVC()))\n",
    "\n",
    "# same as above, but in cross-validation\n",
    "nfolds = 10\n",
    "print('{} fold cv'.format(nfolds))\n",
    "X_cv = np.asarray(X)\n",
    "y_cv = LabelEncoder().fit_transform(np.asarray(y).ravel())\n",
    "\n",
    "for name,model in models:\n",
    "    # apply transformation to each individual fold\n",
    "    pipeline = Pipeline([('transformer', MinMaxScaler()), ('estimator', model)])    \n",
    "    scores = cross_val_score(pipeline, X_cv,y_cv , cv=nfolds)\n",
    "    print(name, np.round(scores.mean(),3))"
   ]
  },
  {
   "cell_type": "code",
   "execution_count": null,
   "metadata": {},
   "outputs": [],
   "source": []
  }
 ],
 "metadata": {
  "kernelspec": {
   "display_name": "Python 3 (ipykernel)",
   "language": "python",
   "name": "python3"
  },
  "language_info": {
   "codemirror_mode": {
    "name": "ipython",
    "version": 3
   },
   "file_extension": ".py",
   "mimetype": "text/x-python",
   "name": "python",
   "nbconvert_exporter": "python",
   "pygments_lexer": "ipython3",
   "version": "3.9.7"
  }
 },
 "nbformat": 4,
 "nbformat_minor": 2
}
